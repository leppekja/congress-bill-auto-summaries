{
 "cells": [
  {
   "cell_type": "code",
   "execution_count": 1,
   "metadata": {},
   "outputs": [
    {
     "name": "stdout",
     "output_type": "stream",
     "text": [
      "Collecting package metadata (current_repodata.json): done\n",
      "Solving environment: \\ \n",
      "The environment is inconsistent, please check the package plan carefully\n",
      "The following packages are causing the inconsistency:\n",
      "\n",
      "  - conda-forge/noarch::seaborn-base==0.11.1=pyhd8ed1ab_1\n",
      "  - conda-forge/noarch::nbclassic==0.2.6=pyhd8ed1ab_0\n",
      "  - defaults/linux-64::numpy==1.19.2=py36h54aff64_0\n",
      "  - conda-forge/linux-64::numexpr==2.7.2=py36h284efc9_0\n",
      "  - conda-forge/linux-64::statsmodels==0.12.2=py36h92226af_0\n",
      "  - conda-forge/linux-64::matplotlib==3.3.4=py36h5fab9bb_0\n",
      "  - conda-forge/linux-64::h5py==3.1.0=nompi_py36hc1bc4f5_100\n",
      "  - conda-forge/linux-64::scipy==1.5.3=py36h9e8f40b_0\n",
      "  - conda-forge/noarch::jupyterlab==3.0.9=pyhd8ed1ab_0\n",
      "  - conda-forge/noarch::python-language-server==0.36.2=pyhd8ed1ab_0\n",
      "  - conda-forge/noarch::jupyterlab_server==2.3.0=pyhd8ed1ab_0\n",
      "  - conda-forge/linux-64::pytables==3.6.1=py36hb7ec5aa_3\n",
      "  - conda-forge/linux-64::pandas==1.1.5=py36h284efc9_0\n",
      "  - conda-forge/linux-64::astropy==4.1=py36ha112f06_2\n",
      "  - conda-forge/noarch::pyls-black==0.4.6=pyh9f0ad1d_0\n",
      "  - conda-forge/linux-64::scikit-image==0.16.2=py36hb3f55d8_0\n",
      "  - conda-forge/linux-64::numba==0.52.0=py36h284efc9_0\n",
      "  - pytorch/linux-64::pytorch==1.7.1=py3.6_cuda10.1.243_cudnn7.6.3_0\n",
      "  - conda-forge/noarch::black==20.8b1=py_1\n",
      "  - conda-forge/linux-64::pyqt==5.9.2=py36hcca6a23_4\n",
      "  - defaults/linux-64::numpy-base==1.19.2=py36hfa32c7d_0\n",
      "  - conda-forge/linux-64::cairo==1.16.0=h18b612c_1001\n",
      "  - conda-forge/linux-64::anyio==2.1.0=py36h5fab9bb_0\n",
      "  - conda-forge/linux-64::harfbuzz==2.4.0=h37c48d4_1\n",
      "  - conda-forge/linux-64::jupyter_server==1.4.1=py36h5fab9bb_0\n",
      "  - conda-forge/noarch::pytest-astropy==0.8.0=pyhd8ed1ab_0\n",
      "  - conda-forge/noarch::qtconsole==5.0.2=pyhd8ed1ab_0\n",
      "  - conda-forge/linux-64::bokeh==2.2.3=py36h5fab9bb_0\n",
      "  - conda-forge/noarch::hypothesis==6.3.2=pyhd8ed1ab_0\n",
      "  - conda-forge/noarch::aiobotocore==1.2.1=pyhd8ed1ab_0\n",
      "  - conda-forge/noarch::numpydoc==1.1.0=py_1\n",
      "  - pytorch/linux-64::torchvision==0.8.2=py36_cu101\n",
      "  - conda-forge/linux-64::spyder==4.2.0=py36h5fab9bb_0\n",
      "  - defaults/linux-64::_anaconda_depends==2019.03=py36_0\n",
      "  - conda-forge/noarch::pyls-spyder==0.3.2=pyhd8ed1ab_0\n",
      "  - conda-forge/linux-64::libxslt==1.1.32=hae48121_1003\n",
      "  - conda-forge/noarch::imageio==2.9.0=py_0\n",
      "  - conda-forge/linux-64::pango==1.42.4=h7062337_4\n",
      "  - conda-forge/noarch::patsy==0.5.1=py_0\n",
      "  - conda-forge/linux-64::yarl==1.6.3=py36h8f6f2f9_1\n",
      "  - conda-forge/noarch::sphinx==3.5.1=pyhd8ed1ab_0\n",
      "  - conda-forge/linux-64::fontconfig==2.13.1=he4413a7_1000\n",
      "  - conda-forge/linux-64::libxml2==2.9.9=h13577e0_2\n",
      "  - conda-forge/noarch::seaborn==0.11.1=hd8ed1ab_1\n",
      "  - conda-forge/linux-64::mkl_random==1.2.0=py36h7c3b610_1\n",
      "  - conda-forge/linux-64::scikit-learn==0.24.1=py36he4fde30_0\n",
      "  - conda-forge/linux-64::bkcharts==0.2=py36_0\n",
      "  - conda-forge/linux-64::jupyter==1.0.0=py36h5fab9bb_6\n",
      "  - conda-forge/noarch::pytest-arraydiff==0.3=py_0\n",
      "  - conda-forge/noarch::dask==2021.2.0=pyhd8ed1ab_0\n",
      "  - conda-forge/linux-64::idna_ssl==1.1.0=py36h9f0ad1d_1001\n",
      "  - conda-forge/linux-64::matplotlib-base==3.3.4=py36hd391965_0\n",
      "  - defaults/linux-64::mkl_fft==1.2.1=py36h54f3939_0\n",
      "  - defaults/linux-64::qt==5.9.7=h5867ecd_1\n",
      "  - conda-forge/noarch::anaconda-client==1.7.2=py_0\n",
      "  - conda-forge/linux-64::pywavelets==1.1.1=py36h92226af_3\n",
      "  - conda-forge/linux-64::bottleneck==1.3.2=py36h92226af_3\n",
      "  - conda-forge/noarch::anaconda-project==0.9.1=pyhd8ed1ab_0\n",
      "failed with initial frozen solve. Retrying with flexible solve.\n",
      "Solving environment: failed with repodata from current_repodata.json, will retry with next repodata source.\n",
      "Collecting package metadata (repodata.json): done\n",
      "Solving environment: - \n",
      "The environment is inconsistent, please check the package plan carefully\n",
      "The following packages are causing the inconsistency:\n",
      "\n",
      "  - conda-forge/noarch::nbclassic==0.2.6=pyhd8ed1ab_0\n",
      "  - conda-forge/noarch::jupyterlab==3.0.9=pyhd8ed1ab_0\n",
      "  - conda-forge/noarch::python-language-server==0.36.2=pyhd8ed1ab_0\n",
      "  - conda-forge/noarch::jupyterlab_server==2.3.0=pyhd8ed1ab_0\n",
      "  - conda-forge/noarch::pyls-black==0.4.6=pyh9f0ad1d_0\n",
      "  - pytorch/linux-64::pytorch==1.7.1=py3.6_cuda10.1.243_cudnn7.6.3_0\n",
      "  - conda-forge/noarch::black==20.8b1=py_1\n",
      "  - conda-forge/linux-64::anyio==2.1.0=py36h5fab9bb_0\n",
      "  - conda-forge/linux-64::jupyter_server==1.4.1=py36h5fab9bb_0\n",
      "  - conda-forge/noarch::pytest-astropy==0.8.0=pyhd8ed1ab_0\n",
      "  - conda-forge/noarch::hypothesis==6.3.2=pyhd8ed1ab_0\n",
      "  - conda-forge/noarch::aiobotocore==1.2.1=pyhd8ed1ab_0\n",
      "  - conda-forge/noarch::numpydoc==1.1.0=py_1\n",
      "  - pytorch/linux-64::torchvision==0.8.2=py36_cu101\n",
      "  - conda-forge/linux-64::spyder==4.2.0=py36h5fab9bb_0\n",
      "  - defaults/linux-64::_anaconda_depends==2019.03=py36_0\n",
      "  - conda-forge/noarch::pyls-spyder==0.3.2=pyhd8ed1ab_0\n",
      "  - conda-forge/linux-64::yarl==1.6.3=py36h8f6f2f9_1\n",
      "  - conda-forge/noarch::sphinx==3.5.1=pyhd8ed1ab_0\n",
      "  - conda-forge/linux-64::jupyter==1.0.0=py36h5fab9bb_6\n",
      "  - conda-forge/linux-64::idna_ssl==1.1.0=py36h9f0ad1d_1001\n",
      "  - conda-forge/noarch::anaconda-client==1.7.2=py_0\n",
      "  - conda-forge/noarch::anaconda-project==0.9.1=pyhd8ed1ab_0\n",
      "\\ ^C\n",
      "failed with initial frozen solve. Retrying with flexible solve.\n",
      "\n",
      "Note: you may need to restart the kernel to use updated packages.\n"
     ]
    }
   ],
   "source": [
    "%conda install torchtext -y -c pytorch"
   ]
  },
  {
   "cell_type": "code",
   "execution_count": 6,
   "metadata": {
    "id": "BgKMTf5cEx41"
   },
   "outputs": [],
   "source": [
    "from __future__ import unicode_literals, print_function, division\n",
    "from io import open\n",
    "import unicodedata\n",
    "import string\n",
    "import re\n",
    "import random\n",
    "import pandas as pd\n",
    "from ast import literal_eval\n",
    "\n",
    "import torch\n",
    "import torch.nn as nn\n",
    "from torch import optim\n",
    "import torch.nn.functional as F\n",
    "import sagemaker\n",
    "import boto3\n",
    "\n",
    "device = torch.device(\"cuda\" if torch.cuda.is_available() else \"cpu\")"
   ]
  },
  {
   "cell_type": "code",
   "execution_count": 9,
   "metadata": {
    "colab": {
     "base_uri": "https://localhost:8080/"
    },
    "id": "QrBHqFXwEx44",
    "outputId": "95ac0999-230e-4db9-f549-6c9226e4e803"
   },
   "outputs": [],
   "source": [
    "COLAB = False # Edit this if needed\n",
    "AWS = True\n",
    "MAX_LENGTH = 10 # For our purposes (last 10 words) keep at 10.\n",
    "\n",
    "if COLAB:\n",
    "    from google.colab import drive\n",
    "    drive.mount('/content/drive/')\n",
    "    CHECKPOINT_PATH = '/content/drive/MyDrive/s2s_checkpoint.tar' # Edit if needed\n",
    "    path = '/content/drive/MyDrive/Cleaned_Summaries_And_Bills.csv' # Edit if needed\n",
    "elif AWS:\n",
    "    sagemaker_session = sagemaker.Session()\n",
    "    role = sagemaker.get_execution_role()\n",
    "    bucket = 'capp-20235'\n",
    "    s3 = boto3.client('s3')\n",
    "    response = s3.get_object(Bucket=bucket, Key='Minimum_Length_Sample.csv')\n",
    "    CHECKPOINT_PATH = 's2s_checkpoint.tar'\n",
    "else:\n",
    "    CHECKPOINT_PATH = 's2s_checkpoint.tar' # Edit if needed\n",
    "    path = 'Cleaned_Summaries_And_Bills.csv' # Edit if needed\n",
    "\n",
    "# Read in the dataframe \n",
    "if AWS:\n",
    "    df = pd.read_csv(response['Body'], converters={'summary_clean': literal_eval, 'bill_clean': literal_eval})\n",
    "else:\n",
    "    df = pd.read_csv(path, converters={'summary_clean': literal_eval, 'bill_clean': literal_eval})\n",
    "# Keep only the last 10 words of the summaries and bills\n",
    "df['summary_clean'] = df['summary_clean'].apply(lambda x: x[-10:])\n",
    "df['bill_clean'] = df['bill_clean'].apply(lambda x: x[-10:])"
   ]
  },
  {
   "cell_type": "code",
   "execution_count": 10,
   "metadata": {
    "id": "K7y2vHk1Ex48"
   },
   "outputs": [],
   "source": [
    "SOS_token = 0\n",
    "EOS_token = 1\n",
    "\n",
    "\n",
    "class Lang:\n",
    "    def __init__(self, name):\n",
    "        self.name = name\n",
    "        self.word2index = {}\n",
    "        self.word2count = {}\n",
    "        self.index2word = {0: \"<sos>\", 1: \"<eos>\"}\n",
    "        self.n_words = 2  # Count SOS and EOS\n",
    "\n",
    "    def addSentence(self, sentence):\n",
    "        for word in sentence.split(' '):\n",
    "            self.addWord(word)\n",
    "\n",
    "    def addWord(self, word):\n",
    "        if word not in self.word2index:\n",
    "            self.word2index[word] = self.n_words\n",
    "            self.word2count[word] = 1\n",
    "            self.index2word[self.n_words] = word\n",
    "            self.n_words += 1\n",
    "        else:\n",
    "            self.word2count[word] += 1"
   ]
  },
  {
   "cell_type": "code",
   "execution_count": 11,
   "metadata": {
    "id": "W6GobAZJEx4_"
   },
   "outputs": [],
   "source": [
    "def read_langs(df):\n",
    "    pairs = []\n",
    "    for row in df[['bill_clean', 'summary_clean']].itertuples():\n",
    "        bill = ' '.join(row[1][1:-1])\n",
    "        summary = ' '.join(row[2][1:-1])\n",
    "        pair = bill, summary\n",
    "        pairs.append(pair)\n",
    "    return pairs"
   ]
  },
  {
   "cell_type": "code",
   "execution_count": 12,
   "metadata": {
    "id": "tG3UYW-HEx5K"
   },
   "outputs": [],
   "source": [
    "def filter_pair(p):\n",
    "    return len(p[0].split(' ')) < MAX_LENGTH\n",
    "\n",
    "def filter_pairs(pairs):\n",
    "    return [pair for pair in pairs if filter_pair(pair)]"
   ]
  },
  {
   "cell_type": "code",
   "execution_count": 13,
   "metadata": {
    "id": "OAoQHpk_Ex5M"
   },
   "outputs": [],
   "source": [
    "def prepare_data(df):\n",
    "    input_lang = Lang('bill')\n",
    "    output_lang = Lang('summary')\n",
    "    pairs = read_langs(df)\n",
    "    print(f\"Read {len(pairs)} bill pairs\")\n",
    "    pairs = filter_pairs(pairs)\n",
    "    print(f\"Trimmed to {len(pairs)} bill pairs\")\n",
    "    print(\"Counting words...\")\n",
    "    for pair in pairs:\n",
    "        input_lang.addSentence(pair[0])\n",
    "        output_lang.addSentence(pair[1])\n",
    "    print(\"Counted words:\")\n",
    "    print(input_lang.name, input_lang.n_words)\n",
    "    print(output_lang.name, output_lang.n_words)\n",
    "    return input_lang, output_lang, pairs"
   ]
  },
  {
   "cell_type": "code",
   "execution_count": 14,
   "metadata": {
    "colab": {
     "base_uri": "https://localhost:8080/"
    },
    "id": "Xc_v0h6tEx5V",
    "outputId": "b3283d06-67be-4f82-a860-6b59cd3c8a60"
   },
   "outputs": [
    {
     "name": "stdout",
     "output_type": "stream",
     "text": [
      "Read 455 bill pairs\n",
      "Trimmed to 455 bill pairs\n",
      "Counting words...\n",
      "Counted words:\n",
      "bill 807\n",
      "summary 1048\n",
      "('coverage of non-invasive prenatal genetic screeningsection ####; .', 'noninvasive prenatal genetic screening for pregnant women .')\n"
     ]
    }
   ],
   "source": [
    "input_lang, output_lang, pairs = prepare_data(df)\n",
    "print(random.choice(pairs))"
   ]
  },
  {
   "cell_type": "code",
   "execution_count": 15,
   "metadata": {
    "id": "LLoschPQEx5b"
   },
   "outputs": [],
   "source": [
    "class EncoderRNN(nn.Module):\n",
    "    def __init__(self, input_size, hidden_size):\n",
    "        super(EncoderRNN, self).__init__()\n",
    "        self.hidden_size = hidden_size\n",
    "        self.embedding = nn.Embedding(input_size, hidden_size)\n",
    "        self.gru = nn.GRU(hidden_size, hidden_size)\n",
    "\n",
    "    def forward(self, input, hidden):\n",
    "        embedded = self.embedding(input).view(1, 1, -1)\n",
    "        output = embedded\n",
    "        output, hidden = self.gru(output, hidden)\n",
    "        return output, hidden\n",
    "\n",
    "    def init_hidden(self):\n",
    "        return torch.zeros(1, 1, self.hidden_size, device=device)"
   ]
  },
  {
   "cell_type": "code",
   "execution_count": 16,
   "metadata": {
    "id": "w3JXn1EKEx5c"
   },
   "outputs": [],
   "source": [
    "class DecoderRNN(nn.Module):\n",
    "    def __init__(self, hidden_size, output_size):\n",
    "        super(DecoderRNN, self).__init__()\n",
    "        self.hidden_size = hidden_size\n",
    "\n",
    "        self.embedding = nn.Embedding(output_size, hidden_size)\n",
    "        self.gru = nn.GRU(hidden_size, hidden_size)\n",
    "        self.out = nn.Linear(hidden_size, output_size)\n",
    "        self.softmax = nn.LogSoftmax(dim=1)\n",
    "\n",
    "    def forward(self, input, hidden):\n",
    "        output = self.embedding(input).view(1, 1, -1)\n",
    "        output = F.relu(output)\n",
    "        output, hidden = self.gru(output, hidden)\n",
    "        output = self.softmax(self.out(output[0]))\n",
    "        return output, hidden\n",
    "\n",
    "    def init_hidden(self):\n",
    "        return torch.zeros(1, 1, self.hidden_size, device=device)"
   ]
  },
  {
   "cell_type": "code",
   "execution_count": 17,
   "metadata": {
    "id": "tLr-bY6QEx5d"
   },
   "outputs": [],
   "source": [
    "def indexes_from_sentence(lang, sentence):\n",
    "    return [lang.word2index[word] for word in sentence.split(' ')]\n",
    "\n",
    "\n",
    "def tensor_from_sentence(lang, sentence):\n",
    "    indexes = indexes_from_sentence(lang, sentence)\n",
    "    return torch.tensor(indexes, dtype=torch.long, device=device).view(-1, 1)\n",
    "\n",
    "\n",
    "def tensors_from_pair(pair):\n",
    "    input_tensor = tensor_from_sentence(input_lang, pair[0])\n",
    "    target_tensor = tensor_from_sentence(output_lang, pair[1])\n",
    "    return input_tensor, target_tensor"
   ]
  },
  {
   "cell_type": "code",
   "execution_count": 18,
   "metadata": {
    "id": "HJng6WAiEx5d"
   },
   "outputs": [],
   "source": [
    "teacher_forcing_ratio = 0.5\n",
    "\n",
    "\n",
    "def train(input_tensor, target_tensor, encoder, decoder, encoder_optimizer, decoder_optimizer, criterion, max_length=MAX_LENGTH):\n",
    "    encoder_hidden = encoder.init_hidden()\n",
    "\n",
    "    encoder_optimizer.zero_grad()\n",
    "    decoder_optimizer.zero_grad()\n",
    "\n",
    "    input_length = input_tensor.size(0)\n",
    "    target_length = target_tensor.size(0)\n",
    "\n",
    "    loss = 0\n",
    "\n",
    "    for ei in range(input_length):\n",
    "        encoder_output, encoder_hidden = encoder(\n",
    "            input_tensor[ei], encoder_hidden)\n",
    "\n",
    "    decoder_input = torch.tensor([[SOS_token]], device=device)\n",
    "\n",
    "    decoder_hidden = encoder_hidden\n",
    "\n",
    "    use_teacher_forcing = True if random.random() < teacher_forcing_ratio else False\n",
    "\n",
    "    if use_teacher_forcing:\n",
    "        # Teacher forcing: Feed the target as the next input\n",
    "        for di in range(target_length):\n",
    "            decoder_output, decoder_hidden = decoder(\n",
    "                decoder_input, decoder_hidden)\n",
    "            loss += criterion(decoder_output, target_tensor[di])\n",
    "            decoder_input = target_tensor[di]  # Teacher forcing\n",
    "\n",
    "    else:\n",
    "        # Without teacher forcing: use its own predictions as the next input\n",
    "        for di in range(target_length):\n",
    "            decoder_output, decoder_hidden = decoder(\n",
    "                decoder_input, decoder_hidden)\n",
    "            topv, topi = decoder_output.topk(1)\n",
    "            decoder_input = topi.squeeze().detach()  # detach from history as input\n",
    "\n",
    "            loss += criterion(decoder_output, target_tensor[di])\n",
    "            if decoder_input.item() == EOS_token:\n",
    "                break\n",
    "\n",
    "    loss.backward()\n",
    "\n",
    "    encoder_optimizer.step()\n",
    "    decoder_optimizer.step()\n",
    "\n",
    "    return loss.item() / target_length"
   ]
  },
  {
   "cell_type": "code",
   "execution_count": 19,
   "metadata": {
    "id": "OifWvX36Ex5e"
   },
   "outputs": [],
   "source": [
    "import time\n",
    "import math\n",
    "\n",
    "\n",
    "def as_minutes(s):\n",
    "    m = math.floor(s / 60)\n",
    "    s -= m * 60\n",
    "    return '%dm %ds' % (m, s)\n",
    "\n",
    "\n",
    "def time_since(since, percent):\n",
    "    now = time.time()\n",
    "    s = now - since\n",
    "    es = s / (percent)\n",
    "    rs = es - s\n",
    "    return '%s (- %s)' % (as_minutes(s), as_minutes(rs))"
   ]
  },
  {
   "cell_type": "code",
   "execution_count": 20,
   "metadata": {
    "id": "Tl-bP0CFEx5e"
   },
   "outputs": [],
   "source": [
    "def train_iters(encoder, decoder, n_iters, encoder_optimizer=None, decoder_optimizer=None, print_every=1000, plot_every=100, save_every=None, learning_rate=0.0001):\n",
    "    encoder.train()\n",
    "    decoder.train()\n",
    "    start = time.time()\n",
    "    plot_losses = []\n",
    "    print_loss_total = 0  # Reset every print_every\n",
    "    plot_loss_total = 0  # Reset every plot_every\n",
    "\n",
    "    if not encoder_optimizer:\n",
    "        encoder_optimizer = optim.SGD(encoder.parameters(), lr=learning_rate)\n",
    "    if not decoder_optimizer:\n",
    "        decoder_optimizer = optim.SGD(decoder.parameters(), lr=learning_rate)\n",
    "    training_pairs = [tensors_from_pair(random.choice(pairs))\n",
    "                      for i in range(n_iters)]\n",
    "    criterion = nn.NLLLoss()\n",
    "\n",
    "    for iter in range(1, n_iters + 1):\n",
    "        training_pair = training_pairs[iter - 1]\n",
    "        input_tensor = training_pair[0]\n",
    "        target_tensor = training_pair[1]\n",
    "\n",
    "        loss = train(input_tensor, target_tensor, encoder,\n",
    "                     decoder, encoder_optimizer, decoder_optimizer, criterion)\n",
    "        print_loss_total += loss\n",
    "        plot_loss_total += loss\n",
    "\n",
    "        if iter % print_every == 0:\n",
    "            print_loss_avg = print_loss_total / print_every\n",
    "            print_loss_total = 0\n",
    "            print('%s (%d %d%%) %.4f' % (time_since(start, iter / n_iters),\n",
    "                                         iter, iter / n_iters * 100, print_loss_avg))\n",
    "\n",
    "        if iter % plot_every == 0:\n",
    "            plot_loss_avg = plot_loss_total / plot_every\n",
    "            plot_losses.append(plot_loss_avg)\n",
    "            plot_loss_total = 0\n",
    "        \n",
    "        if save_every and iter % save_every == 0:\n",
    "            torch.save(\n",
    "                {\n",
    "                    'iteration': iter,\n",
    "                    'encoder_state_dict': encoder.state_dict(),\n",
    "                    'encoder_optimizer_state_dict': encoder_optimizer.state_dict(),\n",
    "                    'decoder_state_dict': decoder.state_dict(),\n",
    "                    'decoder_optimizer_state_dict': decoder_optimizer.state_dict(),\n",
    "                    'loss': loss\n",
    "                },\n",
    "                CHECKPOINT_PATH\n",
    "            )\n",
    "\n",
    "    show_plot(plot_losses)"
   ]
  },
  {
   "cell_type": "code",
   "execution_count": 21,
   "metadata": {
    "id": "tntSfFGlEx5f"
   },
   "outputs": [
    {
     "name": "stderr",
     "output_type": "stream",
     "text": [
      "Matplotlib is building the font cache; this may take a moment.\n"
     ]
    }
   ],
   "source": [
    "import matplotlib.pyplot as plt\n",
    "plt.switch_backend('agg')\n",
    "import matplotlib.ticker as ticker\n",
    "import numpy as np\n",
    "%matplotlib inline\n",
    "\n",
    "\n",
    "def show_plot(points):\n",
    "    plt.figure()\n",
    "    fig, ax = plt.subplots()\n",
    "    # this locator puts ticks at regular intervals\n",
    "    loc = ticker.MultipleLocator(base=0.2)\n",
    "    ax.yaxis.set_major_locator(loc)\n",
    "    plt.plot(points)"
   ]
  },
  {
   "cell_type": "code",
   "execution_count": 22,
   "metadata": {
    "id": "LihVfGi8Ex5f"
   },
   "outputs": [],
   "source": [
    "def evaluate(encoder, decoder, sentence, max_length=MAX_LENGTH):\n",
    "    encoder.eval()\n",
    "    decoder.eval()\n",
    "    with torch.no_grad():\n",
    "        input_tensor = tensor_from_sentence(input_lang, sentence)\n",
    "        input_length = input_tensor.size()[0]\n",
    "        encoder_hidden = encoder.init_hidden()\n",
    "\n",
    "        for ei in range(input_length):\n",
    "            _, encoder_hidden = encoder(input_tensor[ei],\n",
    "                                                     encoder_hidden)\n",
    "\n",
    "        decoder_input = torch.tensor([[SOS_token]], device=device)  # SOS\n",
    "\n",
    "        decoder_hidden = encoder_hidden\n",
    "\n",
    "        decoded_words = []\n",
    "\n",
    "        for di in range(max_length):\n",
    "            decoder_output, decoder_hidden = decoder(\n",
    "                decoder_input, decoder_hidden)\n",
    "            topv, topi = decoder_output.data.topk(1)\n",
    "            if topi.item() == EOS_token:\n",
    "                decoded_words.append('<eos>')\n",
    "                break\n",
    "            else:\n",
    "                decoded_words.append(output_lang.index2word[topi.item()])\n",
    "\n",
    "            decoder_input = topi.squeeze().detach()\n",
    "\n",
    "        return decoded_words"
   ]
  },
  {
   "cell_type": "code",
   "execution_count": 23,
   "metadata": {
    "id": "i7p4y3oUEx5g"
   },
   "outputs": [],
   "source": [
    "def evaluate_randomly(encoder, decoder, n=10):\n",
    "    for i in range(n):\n",
    "        pair = random.choice(pairs)\n",
    "        print('>', pair[0])\n",
    "        print('=', pair[1])\n",
    "        output_words = evaluate(encoder, decoder, pair[0])\n",
    "        output_sentence = ' '.join(output_words)\n",
    "        print('<', output_sentence)\n",
    "        print('')"
   ]
  },
  {
   "cell_type": "code",
   "execution_count": 25,
   "metadata": {},
   "outputs": [],
   "source": [
    "# These things all have to be the same was when the model was originally created\n",
    "hidden_size = 256\n",
    "encoder = EncoderRNN(input_lang.n_words, hidden_size).to(device)\n",
    "decoder = DecoderRNN(hidden_size, output_lang.n_words).to(device)\n",
    "encoder_optimizer = optim.SGD(encoder.parameters(), lr=0.001)\n",
    "decoder_optimizer = optim.SGD(decoder.parameters(), lr=0.001)\n",
    "\n",
    "# Load the checkpointed model\n",
    "# checkpoint = torch.load(CHECKPOINT_PATH, map_location=torch.device(device))\n",
    "# encoder.load_state_dict(checkpoint['encoder_state_dict'])\n",
    "# encoder_optimizer.load_state_dict(checkpoint['encoder_optimizer_state_dict'])\n",
    "# decoder.load_state_dict(checkpoint['decoder_state_dict'])\n",
    "# decoder_optimizer.load_state_dict(checkpoint['decoder_optimizer_state_dict'])\n",
    "# iteration = checkpoint['iteration']\n",
    "# loss = checkpoint['loss']"
   ]
  },
  {
   "cell_type": "code",
   "execution_count": 28,
   "metadata": {},
   "outputs": [
    {
     "name": "stdout",
     "output_type": "stream",
     "text": [
      "> fund had such amendments not been enacted .\n",
      "= america's main street act this bill allows&nbsp; .\n",
      "< the the the the the the . . . .\n",
      "\n",
      "28m 23s (- 255m 27s) (10000 10%) 5.1740\n",
      "60m 13s (- 240m 52s) (20000 20%) 4.4281\n",
      "92m 53s (- 216m 45s) (30000 30%) 3.5275\n",
      "123m 9s (- 184m 43s) (40000 40%) 2.5835\n",
      "153m 16s (- 153m 16s) (50000 50%) 1.7871\n",
      "183m 26s (- 122m 17s) (60000 60%) 1.1376\n",
      "217m 50s (- 93m 21s) (70000 70%) 0.7670\n",
      "248m 2s (- 62m 0s) (80000 80%) 0.5728\n",
      "278m 13s (- 30m 54s) (90000 90%) 0.4518\n",
      "308m 23s (- 0m 0s) (100000 100%) 0.3837\n",
      "> of business of each borrower or grantee .\n",
      "= impact of certain relief programs on jobs .\n",
      "< impact of certain relief programs on jobs . . .\n",
      "\n",
      "> u .s . customs and border protection .\n",
      "= customs and border protection a deportation hearing .\n",
      "< customs and border protection a deportation hearing . . .\n",
      "\n",
      "> preceding sentence shall remain available until expended .\n",
      "= unemployment claims, transmitting information, and addressing fraud .\n",
      "< unemployment claims, transmitting information, and addressing fraud . . .\n",
      "\n",
      "> status under the immigration and nationality act .\n",
      "= provides for the relief of jeanette vizguerra-ramirez .\n",
      "< provides for the relief of alejandra juarez . . .\n",
      "\n",
      "> ##, united states code, are hereby repealed .\n",
      "= most debt held by the federal government .\n",
      "< most debt held by the federal government . . .\n",
      "\n",
      "> paid or accrued after december ##, #### .\n",
      "= for mortgage insurance premiums treated as interest .\n",
      "< for mortgage insurance premiums treated as interest . . .\n",
      "\n",
      "> of #### is amended by striking subsection .\n",
      "= the tax deduction for qualified business income .\n",
      "< the tax deduction for qualified business income . . .\n",
      "\n",
      "> education shall terminate on december ##, #### .\n",
      "= department of education on december ##, #### .\n",
      "< department of education on december ##, #### . . .\n",
      "\n",
      "> the administrator of the federal aviation administration .\n",
      "= provide their employees with personal protective equipment .\n",
      "< provide their employees with personal protective equipment . . .\n",
      "\n",
      "> ##, #### and inserting december ##, #### .\n",
      "= program for treatments for rare pediatric diseases .\n",
      "< act of #### through december ##, #### . . .\n",
      "\n"
     ]
    },
    {
     "data": {
      "text/plain": [
       "<Figure size 432x288 with 0 Axes>"
      ]
     },
     "metadata": {},
     "output_type": "display_data"
    },
    {
     "data": {
      "image/png": "[encoded data removed]",
      "text/plain": [
       "<Figure size 432x288 with 1 Axes>"
      ]
     },
     "metadata": {
      "needs_background": "light"
     },
     "output_type": "display_data"
    }
   ],
   "source": [
    "# Evaluate the model on a random bill\n",
    "evaluate_randomly(encoder, decoder, 1)\n",
    "# Train the model. This will overwrite the checkpointed model!\n",
    "# This took me 20-25 minutes to run.\n",
    "train_iters(encoder, decoder, encoder_optimizer=encoder_optimizer, decoder_optimizer=decoder_optimizer, n_iters=100000, print_every=10000, plot_every=5000, save_every=1000)\n",
    "# Evaluate the model on 10 random bills\n",
    "evaluate_randomly(encoder, decoder, 10)"
   ]
  },
  {
   "cell_type": "code",
   "execution_count": 29,
   "metadata": {
    "id": "V33w21KBEx5o"
   },
   "outputs": [
    {
     "name": "stdout",
     "output_type": "stream",
     "text": [
      "> status for irida kakhtiranova of such act .\n",
      "= provides for the relief of irida kakhtiranova .\n",
      "< provides for the relief of irida kakhtiranova . . .\n",
      "\n"
     ]
    }
   ],
   "source": [
    "evaluate_randomly(encoder, decoder, 1)"
   ]
  },
  {
   "cell_type": "code",
   "execution_count": null,
   "metadata": {},
   "outputs": [],
   "source": []
  }
 ],
 "metadata": {
  "accelerator": "GPU",
  "colab": {
   "collapsed_sections": [],
   "name": "seq2seq.ipynb",
   "provenance": []
  },
  "kernelspec": {
   "display_name": "conda_pytorch_latest_p36",
   "language": "python",
   "name": "conda_pytorch_latest_p36"
  },
  "language_info": {
   "codemirror_mode": {
    "name": "ipython",
    "version": 3
   },
   "file_extension": ".py",
   "mimetype": "text/x-python",
   "name": "python",
   "nbconvert_exporter": "python",
   "pygments_lexer": "ipython3",
   "version": "3.6.13"
  }
 },
 "nbformat": 4,
 "nbformat_minor": 1
}
