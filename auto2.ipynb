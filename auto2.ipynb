{
 "metadata": {
  "language_info": {
   "codemirror_mode": {
    "name": "ipython",
    "version": 3
   },
   "file_extension": ".py",
   "mimetype": "text/x-python",
   "name": "python",
   "nbconvert_exporter": "python",
   "pygments_lexer": "ipython3",
   "version": "3.8.3"
  },
  "orig_nbformat": 2,
  "kernelspec": {
   "name": "python383jvsc74a57bd0a40184dfd4aac9c21f585bfee9a658cf16feac2a6d263672db58bcac3ac9cf8d",
   "display_name": "Python 3.8.3 64-bit ('ml-project': conda)"
  }
 },
 "nbformat": 4,
 "nbformat_minor": 2,
 "cells": [
  {
   "source": [
    "## Auto-Summarization of Congressional Bills\n",
    "\n",
    "Acknowledgments: This code builds on Seq2Seq modeling availabile here and HW4 of Advanced Machine Learning written by Zewei Chu."
   ],
   "cell_type": "markdown",
   "metadata": {}
  },
  {
   "source": [
    "Abstract:\n",
    "\n",
    "In this paper, we describe a Sequence to Sequence neural network with multilayered Long Short-Term Memory (LSTM) networks. We use a novel data set of Congressional bills and human-generated summaries to train the model. We find that WHAT:"
   ],
   "cell_type": "markdown",
   "metadata": {}
  },
  {
   "source": [
    "Introduction:\n",
    "\n",
    "The effectiveness of abstract summarization techniques is very limited on complex and lengthy texts. "
   ],
   "cell_type": "markdown",
   "metadata": {}
  },
  {
   "cell_type": "code",
   "execution_count": 5,
   "metadata": {},
   "outputs": [],
   "source": [
    "import torch\n",
    "import torch.nn as nn\n",
    "import torch.optim as optim\n",
    "from torchtext.vocab import GloVe\n",
    "import numpy as np\n",
    "import random\n",
    "import os\n",
    "import pandas as pd\n",
    "from numpy import floor\n",
    "from numpy.random import shuffle\n",
    "from torch.utils.data import Dataset, DataLoader\n",
    "from torchtext.vocab import Vocab\n",
    "import torch.nn.functional as F\n",
    "from collections import Counter\n",
    "from functools import partial\n",
    "from ast import literal_eval\n",
    "import matplotlib.pyplot as plt\n",
    "%matplotlib inline"
   ]
  },
  {
   "cell_type": "code",
   "execution_count": 145,
   "metadata": {},
   "outputs": [
    {
     "output_type": "stream",
     "name": "stdout",
     "text": [
      "Full version\n"
     ]
    }
   ],
   "source": [
    "USE_CUDA = torch.cuda.is_available()\n",
    "DEVICE = torch.device('cuda' if torch.cuda.is_available() else 'cpu')\n",
    "SEED = 1\n",
    "\n",
    "random.seed(SEED)\n",
    "np.random.seed(SEED)\n",
    "torch.manual_seed(SEED)\n",
    "if USE_CUDA:\n",
    "    torch.cuda.manual_seed(SEED)\n",
    "\n",
    "COLAB = False\n",
    "DEVELOPING = False\n",
    "SINGLE_RECORD = False\n",
    "\n",
    "if DEVELOPING:\n",
    "    if SINGLE_RECORD:\n",
    "        print('Training on single record')\n",
    "        BATCH_SIZE = 1\n",
    "        EMBEDDING_SIZE = 300\n",
    "        TRAINING_SIZE = 1\n",
    "        VALIDATION_SIZE = 0\n",
    "        TESTING_SIZE = 0\n",
    "        MAX_SUMMARY_LENGTH = 5\n",
    "        MAX_BILL_LENGTH = 8\n",
    "    else:\n",
    "        print('Small development version')\n",
    "        BATCH_SIZE = 4\n",
    "        EMBEDDING_SIZE = 300\n",
    "        DATA_FILE = \"Sample.csv\"\n",
    "        TRAINING_SIZE = .5\n",
    "        VALIDATION_SIZE = .5\n",
    "        TESTING_SIZE = .0\n",
    "else:\n",
    "    print('Full version')\n",
    "    BATCH_SIZE = 4\n",
    "    EMBEDDING_SIZE = 300\n",
    "    DATA_FILE = 'Cleaned_Summaries_And_Bills.csv'\n",
    "    TRAINING_SIZE = .7\n",
    "    VALIDATION_SIZE = .2\n",
    "    TESTING_SIZE = .1\n"
   ]
  },
  {
   "cell_type": "code",
   "execution_count": 146,
   "metadata": {},
   "outputs": [
    {
     "output_type": "stream",
     "name": "stdout",
     "text": [
      "           id                                            summary  \\\n0  id113hr242  Legal Agricultural Workforce Act - Amends the ...   \n1  id113hr237  Federal Hiring Freeze Act of 2013 - Prohibits ...   \n\n                   name                                               link  \\\n0  BILLS-113hr242ih.xml  https://www.govinfo.gov/bulkdata/BILLS/113/1/h...   \n1  BILLS-113hr237ih.xml  https://www.govinfo.gov/bulkdata/BILLS/113/1/h...   \n\n                                                text  \\\n0  <?xml version=\"1.0\"?>\\n<?xml-stylesheet type=\"...   \n1  <?xml version=\"1.0\"?>\\n<?xml-stylesheet type=\"...   \n\n                                       summary_clean  \\\n0  [<sos>, legal, agricultural, workforce, act, -...   \n1  [<sos>, federal, hiring, freeze, act, of, ####...   \n\n                                          bill_clean  \n0  [<sos>, legal, agricultural, workforce, act, u...  \n1  [<sos>, federal, hiring, freeze, act, of, ####...  \n"
     ]
    }
   ],
   "source": [
    "if COLAB:\n",
    "    from google.colab import drive\n",
    "    drive.mount('/content/drive')\n",
    "    \n",
    "    PATH = '/content/drive/MyDrive/'\n",
    "\n",
    "else:\n",
    "    PATH = './'\n",
    "\n",
    "if not SINGLE_RECORD:\n",
    "    DATA_SET = pd.read_csv(PATH + DATA_FILE, converters={'summary_clean': literal_eval, 'bill_clean': literal_eval})\n",
    "else:\n",
    "    DATA_SET = pd.DataFrame({'bill_clean':[['<sos>', 'make', 'all', 'drugs', 'legal','for','citizens', '<eos>']], 'summary_clean':[['<sos>', 'make', 'drugs', 'legal', '<eos>']]})\n",
    "\n",
    "print(DATA_SET.head(2))"
   ]
  },
  {
   "source": [
    "## Preprocessing of the data"
   ],
   "cell_type": "markdown",
   "metadata": {}
  },
  {
   "cell_type": "code",
   "execution_count": 147,
   "metadata": {},
   "outputs": [],
   "source": [
    "def trim_dataset(df, bottom_k_pct, top_k_pct):\n",
    "    '''\n",
    "    Remove the top and bottom n% records from the bills and summaries.\n",
    "    Expects tokenized and cleaned dataset.\n",
    "    Pass in pct as decimals.\n",
    "    '''\n",
    "    df['summary_length'] = df.summary_clean.apply(lambda x: len(x))\n",
    "    df['bill_length'] = df.bill_clean.apply(lambda x: len(x))\n",
    "    df['summary_rank'] = df.summary_length.rank(pct=True)\n",
    "    df['bill_rank'] = df.bill_length.rank(pct=True)\n",
    "    cut_df = df[(df.summary_rank >= bottom_k_pct) & (df.summary_rank <= top_k_pct) & (\n",
    "        df.bill_rank >= bottom_k_pct) & (df.bill_rank <= top_k_pct) & (df.summary_length <= df.bill_length)]\n",
    "\n",
    "    max_summary = cut_df.summary_length.max()\n",
    "    max_bill = cut_df.bill_length.max()\n",
    "\n",
    "    print('Cut ' + str(df.shape[0] - cut_df.shape[0]) + ' records.')\n",
    "    print('Count of records remaining: ', cut_df.shape[0])\n",
    "    print(f'New min summary length is {cut_df.summary_length.min()}')\n",
    "    print(f'New max summary length is {cut_df.summary_length.max()}')\n",
    "    print(f'New min bill length is {cut_df.bill_length.min()}')\n",
    "    print(f'New max bill length is {cut_df.bill_length.max()}')\n",
    "    print(f'Compression of summaries to bills is {compression(cut_df)}')\n",
    "    del cut_df['bill_length']\n",
    "    del cut_df['summary_length']\n",
    "    del cut_df['summary_rank']\n",
    "    del cut_df['bill_rank']\n",
    "    return (cut_df, max_summary, max_bill)\n",
    "    \n",
    "def compression(df):\n",
    "    return np.mean(df.summary_clean.apply(len) / df.bill_clean.apply(len))\n"
   ]
  },
  {
   "cell_type": "code",
   "execution_count": 148,
   "metadata": {},
   "outputs": [
    {
     "output_type": "stream",
     "name": "stdout",
     "text": [
      "Cut 42986 records.\nCount of records remaining:  455\nNew min summary length is 2\nNew max summary length is 28\nNew min bill length is 54\nNew max bill length is 128\nCompression of summaries to bills is 0.22755538080201282\n"
     ]
    }
   ],
   "source": [
    "if not SINGLE_RECORD:\n",
    "    SAMPLE, MAX_SUMMARY_LENGTH, MAX_BILL_LENGTH = trim_dataset(DATA_SET, 0, .1)\n",
    "else:\n",
    "    SAMPLE = DATA_SET.copy()"
   ]
  },
  {
   "cell_type": "code",
   "execution_count": 149,
   "metadata": {},
   "outputs": [],
   "source": [
    "def split(data, training_size, testing_size, valid_size, shuffle_data=True):\n",
    "    ''' Takes in a pandas dataframe as data. Returns three BillsDataset objects'''\n",
    "    assert training_size + testing_size + \\\n",
    "        valid_size == 1, 'Split sizes should sum to 1'\n",
    "\n",
    "    def split_index(size, index_length):\n",
    "        '''Converts decimal to # of samples to take'''\n",
    "        return int(floor(size * index_length))\n",
    "    # Split into training / testing / validation sets, assign as attributes.\n",
    "    indices = list(range(len(data)))\n",
    "\n",
    "    train_split = split_index(training_size, len(indices))\n",
    "    test_split = split_index(testing_size, len(indices))\n",
    "\n",
    "    if shuffle_data:\n",
    "        shuffle(indices)\n",
    "\n",
    "    training_data = data.iloc[indices[0:train_split]]\n",
    "    test_data = data.iloc[indices[train_split:train_split + test_split]]\n",
    "    validate_data = data.iloc[indices[train_split + test_split:]]\n",
    "\n",
    "    return (BillsDataset(training_data, 'summary_clean', 'bill_clean'),\n",
    "            BillsDataset(test_data, 'summary_clean', 'bill_clean'),\n",
    "            BillsDataset(validate_data, 'summary_clean', 'bill_clean'))"
   ]
  },
  {
   "cell_type": "code",
   "execution_count": 150,
   "metadata": {},
   "outputs": [],
   "source": [
    "class BillsDataset(Dataset):\n",
    "    \"\"\"\n",
    "    Dataset for Congressional Bills\n",
    "    Adapted from https://pytorch.org/tutorials/beginner/data_loading_tutorial.html\n",
    "    and from https://gist.github.com/kevinzakka/d33bf8d6c7f06a9d8c76d97a7879f5cb.\n",
    "    \"\"\"\n",
    "\n",
    "    def __init__(self, df, summaries_col, bills_col, transform=None):\n",
    "        self.data = df.reset_index(drop=True)\n",
    "        self.labels = summaries_col\n",
    "        self.texts = bills_col\n",
    "        self.transform = transform\n",
    "\n",
    "    def __len__(self):\n",
    "        return len(self.data)\n",
    "\n",
    "    def __getitem__(self, idx):\n",
    "        if torch.is_tensor(idx):\n",
    "            idx = idx.tolist()\n",
    "\n",
    "        summary = self.data.loc[idx, self.labels]\n",
    "        bill = self.data.loc[idx, self.texts]\n",
    "\n",
    "        sample = {'summary': summary, 'bill': bill}\n",
    "\n",
    "        if self.transform:\n",
    "            sample = self.transform(sample)\n",
    "\n",
    "        return sample"
   ]
  },
  {
   "cell_type": "code",
   "execution_count": 151,
   "metadata": {},
   "outputs": [],
   "source": [
    "TRAIN_DATA, TEST_DATA, VALIDATE_DATA = split(SAMPLE, TRAINING_SIZE, TESTING_SIZE, VALIDATION_SIZE, shuffle_data=True)"
   ]
  },
  {
   "cell_type": "code",
   "execution_count": 152,
   "metadata": {},
   "outputs": [],
   "source": [
    "def build_vocab(training_data, summary_col='summary', bill_col='bill', summaries=True, bills=True):\n",
    "    '''\n",
    "    Builds a Vocab object for a Dataset object.\n",
    "    If default BillsDataset object, summary and bill are dict keys.\n",
    "    '''\n",
    "    counter_words = Counter()\n",
    "\n",
    "    for index in range(len(training_data)):\n",
    "        example = training_data[index]\n",
    "        if summaries:\n",
    "          counter_words.update(example[summary_col])\n",
    "        if bills:\n",
    "          counter_words.update(example[bill_col])\n",
    "\n",
    "    return Vocab(counter_words)"
   ]
  },
  {
   "cell_type": "code",
   "execution_count": 153,
   "metadata": {},
   "outputs": [
    {
     "output_type": "stream",
     "name": "stdout",
     "text": [
      "Vocab size is 2583\n"
     ]
    }
   ],
   "source": [
    "VOCAB = build_vocab(TRAIN_DATA, 'summary','bill')\n",
    "VOCAB_SIZE = len(VOCAB)\n",
    "PAD_TOKEN = VOCAB.stoi['<pad>']\n",
    "print(f'Vocab size is {VOCAB_SIZE}')"
   ]
  },
  {
   "source": [
    "With the VOCAB object, we'll leverage GLoVe pretrained embeddings. GLOVE_VECS is size (VOCAB, 300)."
   ],
   "cell_type": "markdown",
   "metadata": {}
  },
  {
   "cell_type": "code",
   "execution_count": 154,
   "metadata": {},
   "outputs": [],
   "source": [
    "def build_glove(vocab):\n",
    "  '''\n",
    "  Return the pretrained embeddings for the vocab words.\n",
    "  '''\n",
    "  # https://nlp.stanford.edu/projects/glove/\n",
    "  VECTORS_CACHE_DIR = './.vector_cache'\n",
    "  glove = GloVe(name='6B', cache=VECTORS_CACHE_DIR)\n",
    "  glove_vectors = glove.get_vecs_by_tokens(vocab.itos)\n",
    "  return glove_vectors"
   ]
  },
  {
   "cell_type": "code",
   "execution_count": 155,
   "metadata": {},
   "outputs": [
    {
     "output_type": "stream",
     "name": "stdout",
     "text": [
      "torch.Size([2583, 300])\n"
     ]
    }
   ],
   "source": [
    "GLOVE_VECS = build_glove(VOCAB)\n",
    "print(GLOVE_VECS.size())"
   ]
  },
  {
   "cell_type": "code",
   "execution_count": 156,
   "metadata": {},
   "outputs": [],
   "source": [
    "def get_dataloaders(batch_size, vocab, max_summary_length, max_bill_length, **kwargs):\n",
    "    '''\n",
    "    kwargs for training_data:, test_data:, and validation_data:.\n",
    "    Returns dict of dataloaders based on arg name input\n",
    "    '''\n",
    "    dataloaders = {}\n",
    "    # Set params for the collate function\n",
    "    collate_fn = partial(\n",
    "        collate_bills_fn, vocab=vocab, max_summary_length=max_summary_length, max_bill_length=max_bill_length)\n",
    "\n",
    "    for dataset_name, data in kwargs.items():\n",
    "        if len(data) > 0:\n",
    "            dataloaders[dataset_name] = DataLoader(\n",
    "                data, batch_size=batch_size,\n",
    "                shuffle=True, collate_fn=collate_fn)\n",
    "\n",
    "    return dataloaders"
   ]
  },
  {
   "cell_type": "code",
   "execution_count": 157,
   "metadata": {},
   "outputs": [],
   "source": [
    "def collate_bills_fn(batch, vocab, max_summary_length=512, max_bill_length=2048):\n",
    "    '''\n",
    "    Collates the batches into the dataloader. Pads unequal lengths with zeros\n",
    "    based on the max lengths given.\n",
    "    '''\n",
    "    labels = []\n",
    "    texts = []\n",
    "    for idx, text_dict in enumerate(batch):\n",
    "        # Get the label and the text\n",
    "        label = text_dict['summary']\n",
    "        # Reversing it may improve performance re / research\n",
    "        text = text_dict['bill'] #[::-1]\n",
    "        # Output for the sample\n",
    "        label_vectors = []\n",
    "        text_vectors = []\n",
    "        # Check lengths; see how much to pad\n",
    "        label_length = len(label)\n",
    "        text_length = len(text)\n",
    "        labels_to_pad = max_summary_length - label_length\n",
    "        text_to_pad = max_bill_length - text_length\n",
    "\n",
    "        if label_length < max_summary_length:\n",
    "            label.extend(['<pad>'] * labels_to_pad)\n",
    "\n",
    "        if text_length < max_bill_length:\n",
    "            text.extend(['<pad>'] * text_to_pad)\n",
    "\n",
    "        for word in label:\n",
    "            label_vectors.append(vocab.stoi[word])\n",
    "        for word in text:\n",
    "            text_vectors.append(vocab.stoi[word])\n",
    "\n",
    "\n",
    "        labels.append(torch.LongTensor(label_vectors))\n",
    "        texts.append(torch.LongTensor(text_vectors))\n",
    "    # Returns shape of (batch size, max_summary (or bill)_length) for each\n",
    "    return (torch.stack(labels), torch.stack(texts))"
   ]
  },
  {
   "cell_type": "code",
   "execution_count": 158,
   "metadata": {},
   "outputs": [],
   "source": [
    "DATALOADERS_DICT = get_dataloaders(BATCH_SIZE, VOCAB, MAX_SUMMARY_LENGTH, MAX_BILL_LENGTH, train_data=TRAIN_DATA, test_data=TEST_DATA, validate_data=VALIDATE_DATA)"
   ]
  },
  {
   "source": [
    "This results in (number of samples in each set / batch size) tuples (or iteration steps) of size (batch size, max length).\n",
    "\n",
    "So if size of training is 15, and batch size is 5, enumerating through dataloader will have 3 steps of inputting label (batch size, summary_length) and text (batch size, bill length).\n",
    "\n",
    "We can view the data:"
   ],
   "cell_type": "markdown",
   "metadata": {}
  },
  {
   "cell_type": "code",
   "execution_count": 159,
   "metadata": {},
   "outputs": [
    {
     "output_type": "stream",
     "name": "stdout",
     "text": [
      "dict_keys(['train_data', 'test_data', 'validate_data'])\nSummary: tensor([[   9,  577,  685,  682,   11,   10,   37,  478,  116,   22,    5,   22,\n            2, 1127,   15, 1548,  577,    8,    1,    1,    1,    1,    1,    1,\n            1,    1,    1,    1],\n        [   9,   97,    2,   92,   91,   78,  836,   87,   85,   14,    2,   79,\n           69,   15,  974,  232,  406,    3,    8,    1,    1,    1,    1,    1,\n            1,    1,    1,    1],\n        [   9, 1092, 1202,   94,   11,    4,   14,  152,  259,  461,  130,  116,\n         1161,  264,    5,   54,  322,    5,  325,  229,   10,   11,    3,    8,\n            1,    1,    1,    1],\n        [   9, 1237,    2,  163,    4,   81,  204,   15,    2,   63,  187,  278,\n          372,    3,    8,    1,    1,    1,    1,    1,    1,    1,    1,    1,\n            1,    1,    1,    1]]) ['<sos>', 'able', 'age', 'adjustment', 'act', 'this', 'bill', 'increases', 'from', '##', 'to', '##', 'the', 'age&nbsp;threshold', 'for', 'tax-favored', 'able', '<eos>', '<pad>', '<pad>', '<pad>', '<pad>', '<pad>', '<pad>', '<pad>', '<pad>', '<pad>', '<pad>'] \n\nBill: tensor([[   9,   45,  577,  685,  682,   11,   27,   26,    3,   16,    4,   40,\n           36,   35,   33,   29,    5,   19,   22,   18,   21,    4,    2,   13,\n           17,   23,   10,   34,    7,   25,   31,    5,   30,   20,    6,    7,\n           12,    2,   24,   32,    3,   46,   58,   43,    3,   41,    3,   39,\n            2,   16,    4,  118,   28,   42,    3, 1922,  110,  121,  123,   75,\n           48,   10,   18,   62,  102,    5,  199,  101,  128,   74,    2,  100,\n            4,    2,  126,    4,   10,   11,    3,    8,    1,    1,    1,    1,\n            1,    1,    1,    1,    1,    1,    1,    1,    1,    1,    1,    1,\n            1,    1,    1,    1,    1,    1,    1,    1,    1,    1,    1,    1,\n            1,    1,    1,    1,    1,    1,    1,    1,    1,    1,    1,    1,\n            1,    1,    1,    1,    1,    1,    1,    1],\n        [   9,   45,    5,   68,    2,   92,   91,   78,    4,   14,    5,  464,\n          153,  973,   69,   15,  224,    6,    5,   87,    6, 2445,    2,   69,\n           15,  974,  232,    3,   27,   26,    3,   16,    4,   40,   36,   35,\n           33,   29,    5,   19,   22,   18,   21,    4,    2,   13,   17,   23,\n           10,   34,    7,   25,   31,    5,   30,   20,    6,    7,   12,    2,\n           24,   32,    3,   46,   58,   43,    3,   41,    3,   39,    2,   16,\n            4,  169,   28,   42,    3, 1378,  110,  121,  137,   75,   48,   10,\n           18,   62,  102,    5,  409,  391,   64, 2127,   74,   95,   28,   14,\n            3,    8,    1,    1,    1,    1,    1,    1,    1,    1,    1,    1,\n            1,    1,    1,    1,    1,    1,    1,    1,    1,    1,    1,    1,\n            1,    1,    1,    1,    1,    1,    1,    1],\n        [   9,   45,    2, 1092, 1202,   94,   11,    4,   14,   27,   26,    3,\n           16,    4,   40,   36,   35,   33,   29,    5,   19,   22,   18,   21,\n            4,    2,   13,   17,   23,   10,   34,    7,   25,   31,    5,   30,\n           20,    6,    7,   12,    2,   24,   32,    3,   46,   58,   43,    3,\n           41,    3,   39,    2,   16,    4,  247,   28,   42,    3, 1873,  195,\n         2279, 2191,    3,    8,    1,    1,    1,    1,    1,    1,    1,    1,\n            1,    1,    1,    1,    1,    1,    1,    1,    1,    1,    1,    1,\n            1,    1,    1,    1,    1,    1,    1,    1,    1,    1,    1,    1,\n            1,    1,    1,    1,    1,    1,    1,    1,    1,    1,    1,    1,\n            1,    1,    1,    1,    1,    1,    1,    1,    1,    1,    1,    1,\n            1,    1,    1,    1,    1,    1,    1,    1],\n        [   9,   45,    5,  212,   81,  691,    4,  130,   15,    2,   63,  187,\n          278,  372,    3,   27,   26,    3,   16,    4,   40,   36,   35,   33,\n           29,    5,   19,   22,   18,   21,    4,    2,   13,   17,   23,   10,\n           34,    7,   25,   31,    5,   30,   20,    6,    7,   12,    2,   24,\n           32,    3,  157,  147,  134,  499,  151,  138,    3,   41,    3,   14,\n           12,    2,   16,    4,   40,  878,   51,   14,  149,    3,  653,   60,\n            2,   55,   59,   50,   56,   61,    5,    2,   53,   38,  106,    6,\n            2,  458,   47,   37,    5,  212,   81,  691,    4,  130,   15,    2,\n           63,  187,  278,  372,    3,   57, 1108, 1449,  130,  205,  264,    5,\n           54,  322,   15,    2,   63,  187,  278,  372,    3,    8,    1,    1,\n            1,    1,    1,    1,    1,    1,    1,    1]]) ['<sos>', ':', 'able', 'age', 'adjustment', 'act', 'u', '.s', '.', 'house', 'of', 'representatives', '####-##-##', 'text/xml', 'en', 'pursuant', 'to', 'title', '##', 'section', '###', 'of', 'the', 'united', 'states', 'code,', 'this', 'file', 'is', 'not', 'subject', 'to', 'copyright', 'protection', 'and', 'is', 'in', 'the', 'public', 'domain', '.', 'i###th', 'congress#st', 'sessionh', '.', 'r', '.', '####in', 'the', 'house', 'of', 'representativesfebruary', '##,', '####mr', '.', 'cã¡rdenas', 'effective', 'datethe', 'amendments', 'made', 'by', 'this', 'section', 'shall', 'apply', 'to', 'taxable', 'years', 'beginning', 'after', 'the', 'date', 'of', 'the', 'enactment', 'of', 'this', 'act', '.', '<eos>', '<pad>', '<pad>', '<pad>', '<pad>', '<pad>', '<pad>', '<pad>', '<pad>', '<pad>', '<pad>', '<pad>', '<pad>', '<pad>', '<pad>', '<pad>', '<pad>', '<pad>', '<pad>', '<pad>', '<pad>', '<pad>', '<pad>', '<pad>', '<pad>', '<pad>', '<pad>', '<pad>', '<pad>', '<pad>', '<pad>', '<pad>', '<pad>', '<pad>', '<pad>', '<pad>', '<pad>', '<pad>', '<pad>', '<pad>', '<pad>', '<pad>', '<pad>', '<pad>', '<pad>', '<pad>', '<pad>', '<pad>', '<pad>']\n"
     ]
    }
   ],
   "source": [
    "print(DATALOADERS_DICT.keys())\n",
    "\n",
    "l, f = next(iter(DATALOADERS_DICT['train_data']))\n",
    "\n",
    "if BATCH_SIZE > 1:\n",
    "    print(\"Summary:\", l, [VOCAB.itos[x] for x in l[0].squeeze(0)], '\\n')\n",
    "    print(\"Bill:\", f, [VOCAB.itos[x] for x in f[0].squeeze(0)])\n",
    "else:\n",
    "    print(\"Summary:\", l, '\\n')\n",
    "    print(\"Bill:\", f)"
   ]
  },
  {
   "cell_type": "code",
   "execution_count": 160,
   "metadata": {},
   "outputs": [],
   "source": [
    "# ![Image](seq2seq.png)\n",
    "# Image Credit to Yoav Goldberg."
   ]
  },
  {
   "source": [
    "## Model Creation\n",
    "\n",
    "Our model is a Sequence To Sequence model with an LSTM-based Encoder and Decoder.\n",
    "\n",
    "Given an input sequence (the text of a Congressional bill) $W_{0:n}$ of length $n$, we produce a target sequence (bill summary), $U_{0:m}$ of length $m$, where $n$ > $m$. Let $<sos>$ and $<eos>$ be tokens indicating the start and end of text, respectively; meaning $W_{0}, U_{0} = <sos>$ and $W_{n}, U_{m} = <eos>$.\n",
    "\n",
    "Furthermore, we define embedding $E \\in n \\times e$, hidden dimension $H$, and vocab size $|V|$. Additionally, for LSTM $L$ in both the $ENCODER$ and $DECODER$, the hidden state $h$ and cell state $c$ components of state $s$ are initialized as $h_0, c_0 = \\vec{0}$. Lastly, $L_{j}$ is layer $j$ of the LSTM $L$. \n",
    "\n",
    "The Sequence To Sequence model is broadly defined as:\n",
    "\n",
    "$\\underset{n \\times H}{C} = ENCODER_{RNN}(W_{0:n})$\n",
    "\n",
    "$\\underset{1 \\times |V|}{\\hat{u}}= DECODER_{RNN}(C; \\hat{y}_{0:m-1}; s_{0:m-1})$\n",
    "\n",
    "where $ENCODER$ produces context vector $C$ from text $W$ as follows: \n",
    "\n",
    "At step $i$ of input sequence $W_{0:n}$, for $0 \\leq i \\leq n$:\n",
    "\n",
    "$\\underset{1 \\times e}{x_i} = E_{W_i}$\n",
    "\n",
    "and passing to $x_{i:n}$ PyTorch, we obtain:\n",
    "\n",
    "$\\underset{n \\times H}{\\hat{y}_{i:n}}, \\underset{1 \\times H}{h_1}, \\underset{1 \\times H}{c_1} = LSTM_{L_{0}}(x_{i} , (h_{0}, c_{0}))$\n",
    "\n",
    "And for layer $j$ of LSTM $L$,\n",
    "\n",
    "$\\underset{1 \\times H}{\\hat{y}^{j}_{i:n}}, \\underset{1 \\times H}{h_1}, \\underset{1 \\times H}{c_1}= LSTM_{L_{j}}(\\hat{y}^{j-1}_{i:n}, (h^{j-1}, c^{j-1}))$\n",
    "\n",
    "where the last layer produces ${C}$ from the final state $s^{enc}$, made up of the final $h$ and $c$ results.\n",
    "\n",
    "Next, $DECODER$ decodes context vector $C$ in combination with state $s_{i-1}$ and predicted value $\\hat{y}_{i-1}$, producing $\\hat{u}_{1:m}$ as follows:\n",
    "\n",
    "$\\underset{1 \\times |V|}{\\hat{y}_i} = O(LSTM_{L_{i}}(c; \\hat{y}_{i-1}; s_{i-1}))$\n",
    "\n",
    "in which $O$ is the softmax function and $h_0, c_0 = C$. $\\hat{y}_i$ is the predicted probability distribution for $w_{i+1}$.\n",
    "\n",
    "For each $\\hat{y}_i$ of the $DECODER$, we calculate the loss $\\ell$ by $\\log \\widehat{y}_{i_{[w_{i+1}]}}$. Across $\\hat{y}_{1:m}$, it is the average cross entropy loss, $\\ell = \\frac{1}{m}\\sum_{i=1}^{m} \\log \\widehat{y}_{i_{[w_{i+1}]}}$.\n",
    "\n",
    "With this step, we preform end to end backpropagation through the $DECODER$ to the $ENCODER$.\n"
   ],
   "cell_type": "markdown",
   "metadata": {}
  },
  {
   "cell_type": "code",
   "execution_count": 161,
   "metadata": {},
   "outputs": [],
   "source": [
    "class Encoder(nn.Module):\n",
    "    def __init__(self,\n",
    "                 input_size,\n",
    "                 hidden_size,\n",
    "                 pretrained_embeddings,\n",
    "                 num_layers,\n",
    "                 pad_token,\n",
    "                 freeze_glove=False,\n",
    "                 ):\n",
    "        super(Encoder, self).__init__()\n",
    "        self.input_size = input_size\n",
    "        self.hidden_size = hidden_size\n",
    "        self.num_layers = num_layers\n",
    "        self.embedding = nn.Embedding.from_pretrained(\n",
    "            pretrained_embeddings, padding_idx=pad_token, freeze=freeze_glove)\n",
    "\n",
    "        self.rnn = nn.LSTM(self.input_size, self.hidden_size, num_layers=self.num_layers, batch_first=False)\n",
    "\n",
    "    def forward(self, text):\n",
    "      '''\n",
    "      Text size is batch size, bill length\n",
    "      '''\n",
    "      # Embedded size is sequence length, batch size, glove vecs size\n",
    "      embedded = self.embedding(text) #.view(-1, len(text), 300)\n",
    "      # This above is batch first, but the rnn takes seq length, batch, size\n",
    "      embedded = embedded.permute(1, 0, 2)\n",
    "      # outputs is size (sequence length, batch_size, hidden_size)\n",
    "      outputs, hidden = self.rnn(embedded)\n",
    "      # each element in hidden is size (num_layers * num_directions (which is 1 unless using a bidirectional LSTM), batch_size, hidden_size)\n",
    "      return outputs.float(), tuple([v.float() for v in hidden])"
   ]
  },
  {
   "cell_type": "code",
   "execution_count": 162,
   "metadata": {},
   "outputs": [],
   "source": [
    "class Decoder(nn.Module):\n",
    "    def __init__(self, input_size, output_dim, hidden_dim, pretrained_embeddings, num_layers, pad_token, freeze_glove=False):\n",
    "        super().__init__()\n",
    "\n",
    "        self.input_size = input_size\n",
    "        # output dim should equal VOCAB size\n",
    "        self.output_dim = output_dim\n",
    "        # hidden_dim should equal the hidden_dim of the ENCODER\n",
    "        self.hidden_dim = hidden_dim\n",
    "        self.num_layers = num_layers\n",
    "        self.rnn = nn.LSTM(self.input_size, hidden_dim, num_layers=self.num_layers, batch_first=False)\n",
    "        self.fc_out = nn.Linear(hidden_dim, output_dim) # transfer to device?\n",
    "        \n",
    "        self.softmax = nn.Softmax(dim=1)\n",
    "        self.embedding = nn.Embedding.from_pretrained(\n",
    "            pretrained_embeddings, padding_idx=pad_token, freeze=freeze_glove)\n",
    "\n",
    "    def forward(self, input_word, hidden):\n",
    " \n",
    "        embedded = self.embedding(input_word)\n",
    "        embedded = embedded.permute(1, 0, 2)\n",
    "        output, hidden= self.rnn(embedded, hidden)\n",
    "        linear = self.fc_out(output.squeeze(0))\n",
    "        # prediction = self.softmax(linear)\n",
    "\n",
    "        return linear, hidden"
   ]
  },
  {
   "cell_type": "code",
   "execution_count": 163,
   "metadata": {},
   "outputs": [],
   "source": [
    "class Seq2Seq(nn.Module):\n",
    "    def __init__(self, encoder, decoder):\n",
    "        super().__init__()\n",
    "\n",
    "        self.encoder = encoder\n",
    "        self.decoder = decoder\n",
    "\n",
    "    def forward(self, label, text):\n",
    "        batch_size = label.shape[0]\n",
    "        label_length = label.shape[1]\n",
    "        vocab_size = self.decoder.output_dim\n",
    "\n",
    "        decode_outputs = torch.zeros(label_length, batch_size, vocab_size)\n",
    "        output, hidden0 = self.encoder(text)\n",
    "        input_word = label[:, 0]\n",
    "\n",
    "        for t in range(1, label_length):\n",
    "            input_word = input_word.unsqueeze(1)\n",
    "            output, hidden = self.decoder(input_word, hidden0)\n",
    "            decode_outputs[t] = output\n",
    "            # top_choice = torch.max(output, dim=1)[1]\n",
    "            input_word = label[:, t]\n",
    "            hidden0 = hidden\n",
    "\n",
    "        # return top_choice, decode_outputs\n",
    "        return decode_outputs"
   ]
  },
  {
   "cell_type": "code",
   "execution_count": 165,
   "metadata": {},
   "outputs": [],
   "source": [
    "INPUT_SIZE = GLOVE_VECS.size()[1] #300\n",
    "HIDDEN_SIZE = 512\n",
    "NUM_LAYERS = 4\n",
    "LOG_INTERVAL = 10"
   ]
  },
  {
   "cell_type": "code",
   "execution_count": 166,
   "metadata": {},
   "outputs": [],
   "source": [
    "encoder = Encoder(INPUT_SIZE, HIDDEN_SIZE, GLOVE_VECS, NUM_LAYERS, PAD_TOKEN, False)\n",
    "decoder = Decoder(INPUT_SIZE, VOCAB_SIZE, HIDDEN_SIZE, GLOVE_VECS, NUM_LAYERS, PAD_TOKEN, False)\n",
    "seq2seq = Seq2Seq(encoder, decoder)"
   ]
  },
  {
   "source": [
    "## Training"
   ],
   "cell_type": "markdown",
   "metadata": {}
  },
  {
   "cell_type": "code",
   "execution_count": 167,
   "metadata": {},
   "outputs": [],
   "source": [
    "OPTIMIZER = optim.Adam(decoder.parameters(), lr=.0003)\n",
    "OPTIMIZER2 = optim.Adam(encoder.parameters(), lr=.0003)\n",
    "LOSS_FN = nn.CrossEntropyLoss(ignore_index=PAD_TOKEN) "
   ]
  },
  {
   "cell_type": "code",
   "execution_count": 168,
   "metadata": {},
   "outputs": [],
   "source": [
    "def train_an_epoch(model, dataloader, optimizer, optimizer2, loss_function, log_interval):\n",
    "    model.train()\n",
    "    \n",
    "    for idx, (label, text) in enumerate(dataloader):\n",
    "        model.zero_grad()\n",
    "        outputs = model(label, text)\n",
    "        output_dim = outputs.shape[-1]\n",
    "        \n",
    "        output = outputs.view(-1, output_dim)\n",
    "        target = label.view(-1)\n",
    "\n",
    "        loss = loss_function(output, target)\n",
    "        loss.backward()\n",
    "              \n",
    "        optimizer.step()\n",
    "        optimizer2.step()\n",
    "\n",
    "\n",
    "        if idx % log_interval == 0 and idx > 0:\n",
    "            print(f'Iteration: {idx}; Loss: {loss:.3f}.')\n",
    "        "
   ]
  },
  {
   "cell_type": "code",
   "execution_count": 169,
   "metadata": {},
   "outputs": [],
   "source": [
    "def get_score(model, dataloader, loss_function):\n",
    "  model.eval()\n",
    "  total_loss = 0\n",
    "  with torch.no_grad():\n",
    "    for i, (label, text) in enumerate(dataloader):\n",
    "      outputs = model(label, text)\n",
    "      output_dim = outputs.shape[-1]\n",
    "      \n",
    "      output = outputs.view(-1, output_dim)\n",
    "      target = label.view(-1)\n",
    "\n",
    "      loss = loss_function(output, target)\n",
    "      total_loss += loss.item()\n",
    "\n",
    "    return total_loss / len(dataloader)"
   ]
  },
  {
   "cell_type": "code",
   "execution_count": 170,
   "metadata": {
    "tags": []
   },
   "outputs": [
    {
     "output_type": "stream",
     "name": "stdout",
     "text": [
      "Iteration: 10; Loss: 7.092.\n",
      "Iteration: 20; Loss: 6.570.\n",
      "Iteration: 30; Loss: 6.664.\n",
      "Iteration: 40; Loss: 6.377.\n",
      "Iteration: 50; Loss: 6.330.\n",
      "Iteration: 60; Loss: 6.084.\n",
      "Iteration: 70; Loss: 5.684.\n",
      "Iteration: 10; Loss: 5.847.\n",
      "Iteration: 20; Loss: 5.689.\n",
      "Iteration: 30; Loss: 5.774.\n",
      "Iteration: 40; Loss: 5.875.\n",
      "Iteration: 50; Loss: 5.890.\n",
      "Iteration: 60; Loss: 5.895.\n",
      "Iteration: 70; Loss: 5.898.\n",
      "Iteration: 10; Loss: 5.884.\n",
      "Iteration: 20; Loss: 5.828.\n",
      "Iteration: 30; Loss: 5.260.\n",
      "Iteration: 40; Loss: 5.808.\n",
      "Iteration: 50; Loss: 5.802.\n",
      "Iteration: 60; Loss: 5.870.\n",
      "Iteration: 70; Loss: 6.012.\n"
     ]
    },
    {
     "output_type": "error",
     "ename": "KeyboardInterrupt",
     "evalue": "",
     "traceback": [
      "\u001b[1;31m---------------------------------------------------------------------------\u001b[0m",
      "\u001b[1;31mKeyboardInterrupt\u001b[0m                         Traceback (most recent call last)",
      "\u001b[1;32m<ipython-input-170-1c10f304b7a6>\u001b[0m in \u001b[0;36m<module>\u001b[1;34m\u001b[0m\n\u001b[0;32m      2\u001b[0m \u001b[0mscores\u001b[0m \u001b[1;33m=\u001b[0m \u001b[1;33m[\u001b[0m\u001b[1;33m]\u001b[0m\u001b[1;33m\u001b[0m\u001b[1;33m\u001b[0m\u001b[0m\n\u001b[0;32m      3\u001b[0m \u001b[1;32mfor\u001b[0m \u001b[0mepoch\u001b[0m \u001b[1;32min\u001b[0m \u001b[0mrange\u001b[0m\u001b[1;33m(\u001b[0m\u001b[1;36m1\u001b[0m\u001b[1;33m,\u001b[0m \u001b[0mEPOCHS\u001b[0m \u001b[1;33m+\u001b[0m \u001b[1;36m1\u001b[0m\u001b[1;33m)\u001b[0m\u001b[1;33m:\u001b[0m\u001b[1;33m\u001b[0m\u001b[1;33m\u001b[0m\u001b[0m\n\u001b[1;32m----> 4\u001b[1;33m   \u001b[0mtrain_an_epoch\u001b[0m\u001b[1;33m(\u001b[0m\u001b[0mseq2seq\u001b[0m\u001b[1;33m,\u001b[0m \u001b[0mDATALOADERS_DICT\u001b[0m\u001b[1;33m[\u001b[0m\u001b[1;34m'train_data'\u001b[0m\u001b[1;33m]\u001b[0m\u001b[1;33m,\u001b[0m \u001b[0mOPTIMIZER\u001b[0m\u001b[1;33m,\u001b[0m \u001b[0mOPTIMIZER2\u001b[0m\u001b[1;33m,\u001b[0m \u001b[0mLOSS_FN\u001b[0m\u001b[1;33m,\u001b[0m \u001b[0mLOG_INTERVAL\u001b[0m\u001b[1;33m)\u001b[0m\u001b[1;33m\u001b[0m\u001b[1;33m\u001b[0m\u001b[0m\n\u001b[0m\u001b[0;32m      5\u001b[0m   \u001b[1;32mif\u001b[0m \u001b[0mSINGLE_RECORD\u001b[0m\u001b[1;33m:\u001b[0m\u001b[1;33m\u001b[0m\u001b[1;33m\u001b[0m\u001b[0m\n\u001b[0;32m      6\u001b[0m     \u001b[0mvalidation_score\u001b[0m \u001b[1;33m=\u001b[0m \u001b[0mget_score\u001b[0m\u001b[1;33m(\u001b[0m\u001b[0mseq2seq\u001b[0m\u001b[1;33m,\u001b[0m \u001b[0mDATALOADERS_DICT\u001b[0m\u001b[1;33m[\u001b[0m\u001b[1;34m'train_data'\u001b[0m\u001b[1;33m]\u001b[0m\u001b[1;33m,\u001b[0m \u001b[0mLOSS_FN\u001b[0m\u001b[1;33m)\u001b[0m\u001b[1;33m\u001b[0m\u001b[1;33m\u001b[0m\u001b[0m\n",
      "\u001b[1;32m<ipython-input-168-ea441a11aa9d>\u001b[0m in \u001b[0;36mtrain_an_epoch\u001b[1;34m(model, dataloader, optimizer, optimizer2, loss_function, log_interval)\u001b[0m\n\u001b[0;32m     11\u001b[0m \u001b[1;33m\u001b[0m\u001b[0m\n\u001b[0;32m     12\u001b[0m         \u001b[0mloss\u001b[0m \u001b[1;33m=\u001b[0m \u001b[0mloss_function\u001b[0m\u001b[1;33m(\u001b[0m\u001b[0moutput\u001b[0m\u001b[1;33m,\u001b[0m \u001b[0mtarget\u001b[0m\u001b[1;33m)\u001b[0m\u001b[1;33m\u001b[0m\u001b[1;33m\u001b[0m\u001b[0m\n\u001b[1;32m---> 13\u001b[1;33m         \u001b[0mloss\u001b[0m\u001b[1;33m.\u001b[0m\u001b[0mbackward\u001b[0m\u001b[1;33m(\u001b[0m\u001b[1;33m)\u001b[0m\u001b[1;33m\u001b[0m\u001b[1;33m\u001b[0m\u001b[0m\n\u001b[0m\u001b[0;32m     14\u001b[0m \u001b[1;33m\u001b[0m\u001b[0m\n\u001b[0;32m     15\u001b[0m         \u001b[0moptimizer\u001b[0m\u001b[1;33m.\u001b[0m\u001b[0mstep\u001b[0m\u001b[1;33m(\u001b[0m\u001b[1;33m)\u001b[0m\u001b[1;33m\u001b[0m\u001b[1;33m\u001b[0m\u001b[0m\n",
      "\u001b[1;32m~\\miniconda3\\envs\\ml-project\\lib\\site-packages\\torch\\tensor.py\u001b[0m in \u001b[0;36mbackward\u001b[1;34m(self, gradient, retain_graph, create_graph, inputs)\u001b[0m\n\u001b[0;32m    243\u001b[0m                 \u001b[0mcreate_graph\u001b[0m\u001b[1;33m=\u001b[0m\u001b[0mcreate_graph\u001b[0m\u001b[1;33m,\u001b[0m\u001b[1;33m\u001b[0m\u001b[1;33m\u001b[0m\u001b[0m\n\u001b[0;32m    244\u001b[0m                 inputs=inputs)\n\u001b[1;32m--> 245\u001b[1;33m         \u001b[0mtorch\u001b[0m\u001b[1;33m.\u001b[0m\u001b[0mautograd\u001b[0m\u001b[1;33m.\u001b[0m\u001b[0mbackward\u001b[0m\u001b[1;33m(\u001b[0m\u001b[0mself\u001b[0m\u001b[1;33m,\u001b[0m \u001b[0mgradient\u001b[0m\u001b[1;33m,\u001b[0m \u001b[0mretain_graph\u001b[0m\u001b[1;33m,\u001b[0m \u001b[0mcreate_graph\u001b[0m\u001b[1;33m,\u001b[0m \u001b[0minputs\u001b[0m\u001b[1;33m=\u001b[0m\u001b[0minputs\u001b[0m\u001b[1;33m)\u001b[0m\u001b[1;33m\u001b[0m\u001b[1;33m\u001b[0m\u001b[0m\n\u001b[0m\u001b[0;32m    246\u001b[0m \u001b[1;33m\u001b[0m\u001b[0m\n\u001b[0;32m    247\u001b[0m     \u001b[1;32mdef\u001b[0m \u001b[0mregister_hook\u001b[0m\u001b[1;33m(\u001b[0m\u001b[0mself\u001b[0m\u001b[1;33m,\u001b[0m \u001b[0mhook\u001b[0m\u001b[1;33m)\u001b[0m\u001b[1;33m:\u001b[0m\u001b[1;33m\u001b[0m\u001b[1;33m\u001b[0m\u001b[0m\n",
      "\u001b[1;32m~\\miniconda3\\envs\\ml-project\\lib\\site-packages\\torch\\autograd\\__init__.py\u001b[0m in \u001b[0;36mbackward\u001b[1;34m(tensors, grad_tensors, retain_graph, create_graph, grad_variables, inputs)\u001b[0m\n\u001b[0;32m    143\u001b[0m         \u001b[0mretain_graph\u001b[0m \u001b[1;33m=\u001b[0m \u001b[0mcreate_graph\u001b[0m\u001b[1;33m\u001b[0m\u001b[1;33m\u001b[0m\u001b[0m\n\u001b[0;32m    144\u001b[0m \u001b[1;33m\u001b[0m\u001b[0m\n\u001b[1;32m--> 145\u001b[1;33m     Variable._execution_engine.run_backward(\n\u001b[0m\u001b[0;32m    146\u001b[0m         \u001b[0mtensors\u001b[0m\u001b[1;33m,\u001b[0m \u001b[0mgrad_tensors_\u001b[0m\u001b[1;33m,\u001b[0m \u001b[0mretain_graph\u001b[0m\u001b[1;33m,\u001b[0m \u001b[0mcreate_graph\u001b[0m\u001b[1;33m,\u001b[0m \u001b[0minputs\u001b[0m\u001b[1;33m,\u001b[0m\u001b[1;33m\u001b[0m\u001b[1;33m\u001b[0m\u001b[0m\n\u001b[0;32m    147\u001b[0m         allow_unreachable=True, accumulate_grad=True)  # allow_unreachable flag\n",
      "\u001b[1;31mKeyboardInterrupt\u001b[0m: "
     ]
    }
   ],
   "source": [
    "EPOCHS = 20\n",
    "scores = []\n",
    "for epoch in range(1, EPOCHS + 1):\n",
    "  train_an_epoch(seq2seq, DATALOADERS_DICT['train_data'], OPTIMIZER, OPTIMIZER2, LOSS_FN, LOG_INTERVAL)\n",
    "  if SINGLE_RECORD:\n",
    "    validation_score = get_score(seq2seq, DATALOADERS_DICT['train_data'], LOSS_FN)\n",
    "  else:\n",
    "    validation_score = get_score(seq2seq, DATALOADERS_DICT['validate_data'], LOSS_FN)\n",
    "  scores.append(validation_score)\n",
    "\n",
    "plt.plot(range(1, EPOCHS+1), scores)"
   ]
  },
  {
   "source": [
    "## Generation"
   ],
   "cell_type": "markdown",
   "metadata": {}
  },
  {
   "cell_type": "code",
   "execution_count": 142,
   "metadata": {},
   "outputs": [],
   "source": [
    "def generate(encoder, decoder, text, batch_size, method='sample'):\n",
    "    start_token = torch.LongTensor([VOCAB.stoi['<sos>']])\n",
    "    current_token = torch.cat((start_token, torch.zeros(BATCH_SIZE - 1))).int().unsqueeze(1)\n",
    "    print(current_token)\n",
    "    t = 0\n",
    "    words = []\n",
    "    encoder.eval()\n",
    "    decoder.eval()\n",
    "    with torch.no_grad():\n",
    "        enc_out, hidden0 = encoder(text)\n",
    "\n",
    "        while (t < MAX_SUMMARY_LENGTH) and (torch.sum(current_token) != VOCAB.stoi['<eos>']):\n",
    "            # Depending on if working with a single record or not may need to change this\n",
    "            word = current_token #.unsqueeze(1)\n",
    "            d_out, d_hid = decoder(word, hidden0)\n",
    "            if method=='sample':\n",
    "                i = 0\n",
    "                s = np.random.random()\n",
    "                while s >= 0:\n",
    "                    i += 1\n",
    "                    s -= d_out[:, i][0]\n",
    "                    \n",
    "                words.append(VOCAB.itos[i])\n",
    "\n",
    "            else:\n",
    "                words.append(VOCAB.itos[d_out[0].argmax(0)])\n",
    "            current_token = torch.cat((d_out[0].argmax(0).unsqueeze(0), torch.zeros(batch_size - 1))).int().unsqueeze(1)\n",
    "            hidden0 = [x.detach() for x in d_hid]\n",
    "            t+= 1\n",
    "    return words"
   ]
  },
  {
   "cell_type": "code",
   "execution_count": 143,
   "metadata": {
    "tags": []
   },
   "outputs": [
    {
     "output_type": "stream",
     "name": "stdout",
     "text": [
      "tensor([[20],\n        [ 0],\n        [ 0],\n        [ 0]], dtype=torch.int32)\n"
     ]
    },
    {
     "output_type": "execute_result",
     "data": {
      "text/plain": [
       "['act',\n",
       " 'the',\n",
       " 'the',\n",
       " 'the',\n",
       " 'the',\n",
       " 'the',\n",
       " 'the',\n",
       " 'the',\n",
       " 'the',\n",
       " 'the',\n",
       " 'the',\n",
       " 'the',\n",
       " 'the',\n",
       " 'the',\n",
       " 'the',\n",
       " 'the',\n",
       " 'the',\n",
       " 'the',\n",
       " 'the',\n",
       " 'the',\n",
       " 'the',\n",
       " 'the',\n",
       " 'the',\n",
       " 'the',\n",
       " 'the',\n",
       " 'the',\n",
       " 'the']"
      ]
     },
     "metadata": {},
     "execution_count": 143
    }
   ],
   "source": [
    "generate(encoder, decoder, f, BATCH_SIZE, 'nH')"
   ]
  },
  {
   "cell_type": "code",
   "execution_count": null,
   "metadata": {},
   "outputs": [],
   "source": []
  }
 ]
}