{
 "metadata": {
  "language_info": {
   "codemirror_mode": {
    "name": "ipython",
    "version": 3
   },
   "file_extension": ".py",
   "mimetype": "text/x-python",
   "name": "python",
   "nbconvert_exporter": "python",
   "pygments_lexer": "ipython3",
   "version": "3.8.3"
  },
  "orig_nbformat": 2,
  "kernelspec": {
   "name": "python383jvsc74a57bd0a40184dfd4aac9c21f585bfee9a658cf16feac2a6d263672db58bcac3ac9cf8d",
   "display_name": "Python 3.8.3 64-bit ('ml-project': conda)"
  }
 },
 "nbformat": 4,
 "nbformat_minor": 2,
 "cells": [
  {
   "source": [
    "## Auto-Summarization of Congressional Bills\n",
    "\n",
    "Acknowledgments: This code builds on Seq2Seq modeling availabile here and HW4 of Advanced Machine Learning written by Zewei Chu."
   ],
   "cell_type": "markdown",
   "metadata": {}
  },
  {
   "source": [
    "Abstract:\n",
    "\n",
    "In this paper, we describe a Sequence to Sequence neural network with multilayered Long Short-Term Memory (LSTM) networks. We use a novel data set of Congressional bills and human-generated summaries to train the model. We find that WHAT:"
   ],
   "cell_type": "markdown",
   "metadata": {}
  },
  {
   "source": [
    "Introduction:\n",
    "\n",
    "The effectiveness of abstract summarization techniques is very limited on complex and lengthy texts. "
   ],
   "cell_type": "markdown",
   "metadata": {}
  },
  {
   "cell_type": "code",
   "execution_count": 4,
   "metadata": {},
   "outputs": [],
   "source": [
    "import torch\n",
    "import torch.nn as nn\n",
    "import torch.optim as optim\n",
    "from torchtext.vocab import GloVe\n",
    "import numpy as np\n",
    "import random\n",
    "import os\n",
    "import pandas as pd\n",
    "from numpy import floor\n",
    "from numpy.random import shuffle\n",
    "from torch.utils.data import Dataset, DataLoader\n",
    "from torchtext.vocab import Vocab\n",
    "import torch.nn.functional as F\n",
    "from collections import Counter\n",
    "from functools import partial\n",
    "from ast import literal_eval\n",
    "import matplotlib.pyplot as plt\n",
    "%matplotlib inline"
   ]
  },
  {
   "cell_type": "code",
   "execution_count": 5,
   "metadata": {},
   "outputs": [
    {
     "output_type": "stream",
     "name": "stdout",
     "text": [
      "Training on single record\n"
     ]
    }
   ],
   "source": [
    "USE_CUDA = torch.cuda.is_available()\n",
    "DEVICE = torch.device('cuda' if torch.cuda.is_available() else 'cpu')\n",
    "SEED = 1\n",
    "\n",
    "random.seed(SEED)\n",
    "np.random.seed(SEED)\n",
    "torch.manual_seed(SEED)\n",
    "if USE_CUDA:\n",
    "    torch.cuda.manual_seed(SEED)\n",
    "\n",
    "COLAB = False\n",
    "DEVELOPING = True\n",
    "SINGLE_RECORD = True\n",
    "\n",
    "if DEVELOPING:\n",
    "    if SINGLE_RECORD:\n",
    "        print('Training on single record')\n",
    "        BATCH_SIZE = 1\n",
    "        EMBEDDING_SIZE = 300\n",
    "        TRAINING_SIZE = 1\n",
    "        VALIDATION_SIZE = 0\n",
    "        TESTING_SIZE = 0\n",
    "        MAX_SUMMARY_LENGTH = 5\n",
    "        MAX_BILL_LENGTH = 8\n",
    "    else:\n",
    "        print('Small development version')\n",
    "        BATCH_SIZE = 1\n",
    "        EMBEDDING_SIZE = 300\n",
    "        DATA_FILE = \"Sample.csv\"\n",
    "        TRAINING_SIZE = 1\n",
    "        VALIDATION_SIZE = 0\n",
    "        TESTING_SIZE = 0\n",
    "else:\n",
    "    print('Full version')\n",
    "    BATCH_SIZE = 32\n",
    "    EMBEDDING_SIZE = 300\n",
    "    DATA_FILE = 'Cleaned_Summaries_And_Bills.csv'\n",
    "    TRAINING_SIZE = .5\n",
    "    VALIDATION_SIZE = .3\n",
    "    TESTING_SIZE = .2\n"
   ]
  },
  {
   "cell_type": "code",
   "execution_count": 6,
   "metadata": {},
   "outputs": [
    {
     "output_type": "stream",
     "name": "stdout",
     "text": [
      "                                          bill_clean  \\\n0  [<sos>, make, all, drugs, legal, for, citizens...   \n\n                        summary_clean  \n0  [<sos>, make, drugs, legal, <eos>]  \n"
     ]
    }
   ],
   "source": [
    "if COLAB:\n",
    "    from google.colab import drive\n",
    "    drive.mount('/content/drive')\n",
    "    \n",
    "    PATH = '/content/drive/MyDrive/'\n",
    "\n",
    "else:\n",
    "    PATH = './'\n",
    "\n",
    "if not SINGLE_RECORD:\n",
    "    DATA_SET = pd.read_csv(PATH + DATA_FILE, converters={'summary_clean': literal_eval, 'bill_clean': literal_eval})\n",
    "else:\n",
    "    DATA_SET = pd.DataFrame({'bill_clean':[['<sos>', 'make', 'all', 'drugs', 'legal','for','citizens', '<eos>']], 'summary_clean':[['<sos>', 'make', 'drugs', 'legal', '<eos>']]})\n",
    "\n",
    "print(DATA_SET.head())"
   ]
  },
  {
   "source": [
    "## Preprocessing of the data"
   ],
   "cell_type": "markdown",
   "metadata": {}
  },
  {
   "cell_type": "code",
   "execution_count": 7,
   "metadata": {},
   "outputs": [],
   "source": [
    "def trim_dataset(df, bottom_k_pct, top_k_pct):\n",
    "    '''\n",
    "    Remove the top and bottom n% records from the bills and summaries.\n",
    "    Expects tokenized and cleaned dataset.\n",
    "    Pass in pct as decimals.\n",
    "    '''\n",
    "    df['summary_length'] = df.summary_clean.apply(lambda x: len(x))\n",
    "    df['bill_length'] = df.bill_clean.apply(lambda x: len(x))\n",
    "    df['summary_rank'] = df.summary_length.rank(pct=True)\n",
    "    df['bill_rank'] = df.bill_length.rank(pct=True)\n",
    "    cut_df = df[(df.summary_rank >= bottom_k_pct) & (df.summary_rank <= top_k_pct) & (\n",
    "        df.bill_rank >= bottom_k_pct) & (df.bill_rank <= top_k_pct) & (df.summary_length <= df.bill_length)]\n",
    "\n",
    "    max_summary = cut_df.summary_length.max()\n",
    "    max_bill = cut_df.bill_length.max()\n",
    "\n",
    "    print('Cut ' + str(df.shape[0] - cut_df.shape[0]) + ' records.')\n",
    "    print('Count of records remaining: ', cut_df.shape[0])\n",
    "    print(f'New min summary length is {cut_df.summary_length.min()}')\n",
    "    print(f'New max summary length is {cut_df.summary_length.max()}')\n",
    "    print(f'New min bill length is {cut_df.bill_length.min()}')\n",
    "    print(f'New max bill length is {cut_df.bill_length.max()}')\n",
    "    print(f'Compression of summaries to bills is {compression(cut_df)}')\n",
    "    del cut_df['bill_length']\n",
    "    del cut_df['summary_length']\n",
    "    del cut_df['summary_rank']\n",
    "    del cut_df['bill_rank']\n",
    "    return (cut_df, max_summary, max_bill)\n",
    "    \n",
    "def compression(df):\n",
    "    return np.mean(df.summary_clean.apply(len) / df.bill_clean.apply(len))\n"
   ]
  },
  {
   "cell_type": "code",
   "execution_count": 8,
   "metadata": {},
   "outputs": [],
   "source": [
    "if not SINGLE_RECORD:\n",
    "    SAMPLE, MAX_SUMMARY_LENGTH, MAX_BILL_LENGTH = trim_dataset(DATA_SET, 0, .03)\n",
    "else:\n",
    "    SAMPLE = DATA_SET.copy()"
   ]
  },
  {
   "cell_type": "code",
   "execution_count": 9,
   "metadata": {},
   "outputs": [],
   "source": [
    "def split(data, training_size, testing_size, valid_size, shuffle_data=True):\n",
    "    ''' Takes in a pandas dataframe as data. Returns three BillsDataset objects'''\n",
    "    assert training_size + testing_size + \\\n",
    "        valid_size == 1, 'Split sizes should sum to 1'\n",
    "\n",
    "    def split_index(size, index_length):\n",
    "        '''Converts decimal to # of samples to take'''\n",
    "        return int(floor(size * index_length))\n",
    "    # Split into training / testing / validation sets, assign as attributes.\n",
    "    indices = list(range(len(data)))\n",
    "\n",
    "    train_split = split_index(training_size, len(indices))\n",
    "    test_split = split_index(testing_size, len(indices))\n",
    "\n",
    "    if shuffle_data:\n",
    "        shuffle(indices)\n",
    "\n",
    "    training_data = data.iloc[indices[0:train_split]]\n",
    "    test_data = data.iloc[indices[train_split:train_split + test_split]]\n",
    "    validate_data = data.iloc[indices[train_split + test_split:]]\n",
    "\n",
    "    return (BillsDataset(training_data, 'summary_clean', 'bill_clean'),\n",
    "            BillsDataset(test_data, 'summary_clean', 'bill_clean'),\n",
    "            BillsDataset(validate_data, 'summary_clean', 'bill_clean'))"
   ]
  },
  {
   "cell_type": "code",
   "execution_count": 10,
   "metadata": {},
   "outputs": [],
   "source": [
    "class BillsDataset(Dataset):\n",
    "    \"\"\"\n",
    "    Dataset for Congressional Bills\n",
    "    Adapted from https://pytorch.org/tutorials/beginner/data_loading_tutorial.html\n",
    "    and from https://gist.github.com/kevinzakka/d33bf8d6c7f06a9d8c76d97a7879f5cb.\n",
    "    \"\"\"\n",
    "\n",
    "    def __init__(self, df, summaries_col, bills_col, transform=None):\n",
    "        self.data = df.reset_index(drop=True)\n",
    "        self.labels = summaries_col\n",
    "        self.texts = bills_col\n",
    "        self.transform = transform\n",
    "\n",
    "    def __len__(self):\n",
    "        return len(self.data)\n",
    "\n",
    "    def __getitem__(self, idx):\n",
    "        if torch.is_tensor(idx):\n",
    "            idx = idx.tolist()\n",
    "\n",
    "        summary = self.data.loc[idx, self.labels]\n",
    "        bill = self.data.loc[idx, self.texts]\n",
    "\n",
    "        sample = {'summary': summary, 'bill': bill}\n",
    "\n",
    "        if self.transform:\n",
    "            sample = self.transform(sample)\n",
    "\n",
    "        return sample"
   ]
  },
  {
   "cell_type": "code",
   "execution_count": 11,
   "metadata": {},
   "outputs": [],
   "source": [
    "TRAIN_DATA, TEST_DATA, VALIDATE_DATA = split(SAMPLE, TRAINING_SIZE, TESTING_SIZE, VALIDATION_SIZE, shuffle_data=True)"
   ]
  },
  {
   "cell_type": "code",
   "execution_count": 12,
   "metadata": {},
   "outputs": [],
   "source": [
    "def build_vocab(training_data, summary_col='summary', bill_col='bill', summaries=True, bills=True):\n",
    "    '''\n",
    "    Builds a Vocab object for a Dataset object.\n",
    "    If default BillsDataset object, summary and bill are dict keys.\n",
    "    '''\n",
    "    counter_words = Counter()\n",
    "\n",
    "    for index in range(len(training_data)):\n",
    "        example = training_data[index]\n",
    "        if summaries:\n",
    "          counter_words.update(example[summary_col])\n",
    "        if bills:\n",
    "          counter_words.update(example[bill_col])\n",
    "\n",
    "    return Vocab(counter_words)"
   ]
  },
  {
   "cell_type": "code",
   "execution_count": 13,
   "metadata": {},
   "outputs": [
    {
     "output_type": "stream",
     "name": "stdout",
     "text": [
      "Vocab size is 10\n"
     ]
    }
   ],
   "source": [
    "VOCAB = build_vocab(TRAIN_DATA, 'summary','bill')\n",
    "VOCAB_SIZE = len(VOCAB)\n",
    "PAD_TOKEN = VOCAB.stoi['<pad>']\n",
    "print(f'Vocab size is {VOCAB_SIZE}')"
   ]
  },
  {
   "source": [
    "With the VOCAB object, we'll leverage GLoVe pretrained embeddings. GLOVE_VECS is size (VOCAB, 300)."
   ],
   "cell_type": "markdown",
   "metadata": {}
  },
  {
   "cell_type": "code",
   "execution_count": 14,
   "metadata": {},
   "outputs": [],
   "source": [
    "def build_glove(vocab):\n",
    "  '''\n",
    "  Return the pretrained embeddings for the vocab words.\n",
    "  '''\n",
    "  # https://nlp.stanford.edu/projects/glove/\n",
    "  VECTORS_CACHE_DIR = './.vector_cache'\n",
    "  glove = GloVe(name='6B', cache=VECTORS_CACHE_DIR)\n",
    "  glove_vectors = glove.get_vecs_by_tokens(vocab.itos)\n",
    "  return glove_vectors"
   ]
  },
  {
   "cell_type": "code",
   "execution_count": 15,
   "metadata": {},
   "outputs": [
    {
     "output_type": "stream",
     "name": "stdout",
     "text": [
      "torch.Size([10, 300])\n"
     ]
    }
   ],
   "source": [
    "GLOVE_VECS = build_glove(VOCAB)\n",
    "print(GLOVE_VECS.size())"
   ]
  },
  {
   "cell_type": "code",
   "execution_count": 16,
   "metadata": {},
   "outputs": [],
   "source": [
    "def get_dataloaders(batch_size, vocab, max_summary_length, max_bill_length, **kwargs):\n",
    "    '''\n",
    "    kwargs for training_data:, test_data:, and validation_data:.\n",
    "    Returns dict of dataloaders based on arg name input\n",
    "    '''\n",
    "    dataloaders = {}\n",
    "    # Set params for the collate function\n",
    "    collate_fn = partial(\n",
    "        collate_bills_fn, vocab=vocab, max_summary_length=max_summary_length, max_bill_length=max_bill_length)\n",
    "\n",
    "    for dataset_name, data in kwargs.items():\n",
    "        if len(data) > 0:\n",
    "            dataloaders[dataset_name] = DataLoader(\n",
    "                data, batch_size=batch_size,\n",
    "                shuffle=True, collate_fn=collate_fn)\n",
    "\n",
    "    return dataloaders"
   ]
  },
  {
   "cell_type": "code",
   "execution_count": 17,
   "metadata": {},
   "outputs": [],
   "source": [
    "def collate_bills_fn(batch, vocab, max_summary_length=512, max_bill_length=2048):\n",
    "    '''\n",
    "    Collates the batches into the dataloader. Pads unequal lengths with zeros\n",
    "    based on the max lengths given.\n",
    "    '''\n",
    "    labels = []\n",
    "    texts = []\n",
    "    for idx, text_dict in enumerate(batch):\n",
    "        # Get the label and the text\n",
    "        label = text_dict['summary']\n",
    "        # Reversing it may improve performance re / research\n",
    "        text = text_dict['bill'][::-1]\n",
    "        # Output for the sample\n",
    "        label_vectors = []\n",
    "        text_vectors = []\n",
    "        # Check lengths; see how much to pad\n",
    "        label_length = len(label)\n",
    "        text_length = len(text)\n",
    "        labels_to_pad = max_summary_length - label_length\n",
    "        text_to_pad = max_bill_length - text_length\n",
    "\n",
    "        if label_length < max_summary_length:\n",
    "            label.extend(['<pad>'] * labels_to_pad)\n",
    "\n",
    "        if text_length < max_bill_length:\n",
    "            text.extend(['<pad>'] * text_to_pad)\n",
    "\n",
    "        for word in label:\n",
    "            label_vectors.append(vocab.stoi[word])\n",
    "        for word in text:\n",
    "            text_vectors.append(vocab.stoi[word])\n",
    "\n",
    "\n",
    "        labels.append(torch.LongTensor(label_vectors))\n",
    "        texts.append(torch.LongTensor(text_vectors))\n",
    "    # Returns shape of (batch size, max_summary (or bill)_length) for each\n",
    "    return (torch.stack(labels), torch.stack(texts))"
   ]
  },
  {
   "cell_type": "code",
   "execution_count": 18,
   "metadata": {},
   "outputs": [],
   "source": [
    "DATALOADERS_DICT = get_dataloaders(BATCH_SIZE, VOCAB, MAX_SUMMARY_LENGTH, MAX_BILL_LENGTH, train_data=TRAIN_DATA, test_data=TEST_DATA, validate_data=VALIDATE_DATA)"
   ]
  },
  {
   "source": [
    "This results in (number of samples in each set / batch size) tuples (or iteration steps) of size (batch size, max length).\n",
    "\n",
    "So if size of training is 15, and batch size is 5, enumerating through dataloader will have 3 steps of inputting label (batch size, summary_length) and text (batch size, bill length).\n",
    "\n",
    "We can view the data:"
   ],
   "cell_type": "markdown",
   "metadata": {}
  },
  {
   "cell_type": "code",
   "execution_count": 19,
   "metadata": {},
   "outputs": [
    {
     "output_type": "stream",
     "name": "stdout",
     "text": [
      "dict_keys(['train_data'])\nSummary: tensor([[3, 6, 4, 5, 2]]) \n\nBill: tensor([[2, 8, 9, 5, 4, 7, 6, 3]])\n"
     ]
    }
   ],
   "source": [
    "print(DATALOADERS_DICT.keys())\n",
    "\n",
    "l, f = next(iter(DATALOADERS_DICT['train_data']))\n",
    "\n",
    "if BATCH_SIZE > 1:\n",
    "    print(\"Summary:\", l, [VOCAB.itos[x] for x in l[0].squeeze(0)], '\\n')\n",
    "    print(\"Bill:\", f, [VOCAB.itos[x] for x in f[0].squeeze(0)])\n",
    "else:\n",
    "    print(\"Summary:\", l, '\\n')\n",
    "    print(\"Bill:\", f)"
   ]
  },
  {
   "source": [
    "# Pytorch Data"
   ],
   "cell_type": "markdown",
   "metadata": {}
  },
  {
   "cell_type": "code",
   "execution_count": null,
   "metadata": {},
   "outputs": [],
   "source": []
  },
  {
   "cell_type": "code",
   "execution_count": 20,
   "metadata": {},
   "outputs": [],
   "source": [
    "# ![Image](seq2seq.png)\n",
    "# Image Credit to Yoav Goldberg."
   ]
  },
  {
   "source": [
    "## Model Creation\n",
    "\n",
    "Our model is a Sequence To Sequence model with an LSTM-based Encoder and Decoder.\n",
    "\n",
    "Given an input sequence (the text of a Congressional bill) $W_{0:n}$ of length $n$, we produce a target sequence (bill summary), $U_{0:m}$ of length $m$, where $n$ > $m$. Let $<sos>$ and $<eos>$ be tokens indicating the start and end of text, respectively; meaning $W_{0}, U_{0} = <sos>$ and $W_{n}, U_{m} = <eos>$.\n",
    "\n",
    "Furthermore, we define embedding $E \\in n \\times e$, hidden dimension $H$, and vocab size $|V|$. Additionally, for LSTM $L$ in both the $ENCODER$ and $DECODER$, the hidden state $h$ and cell state $c$ components of state $s$ are initialized as $h_0, c_0 = \\vec{0}$. Lastly, $L_{j}$ is layer $j$ of the LSTM $L$. \n",
    "\n",
    "The Sequence To Sequence model is broadly defined as:\n",
    "\n",
    "$\\underset{n \\times H}{C} = ENCODER_{RNN}(W_{0:n})$\n",
    "\n",
    "$\\underset{1 \\times |V|}{\\hat{u}}= DECODER_{RNN}(C; \\hat{y}_{0:m-1}; s_{0:m-1})$\n",
    "\n",
    "where $ENCODER$ produces context vector $C$ from text $W$ as follows: \n",
    "\n",
    "At step $i$ of input sequence $W_{0:n}$, for $0 \\leq i \\leq n$:\n",
    "\n",
    "$\\underset{1 \\times e}{x_i} = E_{W_i}$\n",
    "\n",
    "and passing to $x_{i:n}$ PyTorch, we obtain:\n",
    "\n",
    "$\\underset{n \\times H}{\\hat{y}_{i:n}}, \\underset{1 \\times H}{h_1}, \\underset{1 \\times H}{c_1} = LSTM_{L_{0}}(x_{i} , (h_{0}, c_{0}))$\n",
    "\n",
    "And for layer $j$ of LSTM $L$,\n",
    "\n",
    "$\\underset{1 \\times H}{\\hat{y}^{j}_{i:n}}, \\underset{1 \\times H}{h_1}, \\underset{1 \\times H}{c_1}= LSTM_{L_{j}}(\\hat{y}^{j-1}_{i:n}, (h^{j-1}, c^{j-1}))$\n",
    "\n",
    "where the last layer produces ${C}$ from the final state $s^{enc}$, made up of the final $h$ and $c$ results.\n",
    "\n",
    "Next, $DECODER$ decodes context vector $C$ in combination with state $s_{i-1}$ and predicted value $\\hat{y}_{i-1}$, producing $\\hat{u}_{1:m}$ as follows:\n",
    "\n",
    "$\\underset{1 \\times |V|}{\\hat{y}_i} = O(LSTM_{L_{i}}(c; \\hat{y}_{i-1}; s_{i-1}))$\n",
    "\n",
    "in which $O$ is the softmax function and $h_0, c_0 = C$. $\\hat{y}_i$ is the predicted probability distribution for $w_{i+1}$.\n",
    "\n",
    "For each $\\hat{y}_i$ of the $DECODER$, we calculate the loss $\\ell$ by $\\log \\widehat{y}_{i_{[w_{i+1}]}}$. Across $\\hat{y}_{1:m}$, it is the average cross entropy loss, $\\ell = \\frac{1}{m}\\sum_{i=1}^{m} \\log \\widehat{y}_{i_{[w_{i+1}]}}$.\n",
    "\n",
    "With this step, we preform end to end backpropagation through the $DECODER$ to the $ENCODER$.\n"
   ],
   "cell_type": "markdown",
   "metadata": {}
  },
  {
   "cell_type": "code",
   "execution_count": 21,
   "metadata": {},
   "outputs": [],
   "source": [
    "class Encoder(nn.Module):\n",
    "    def __init__(self,\n",
    "                 input_size,\n",
    "                 hidden_size,\n",
    "                 pretrained_embeddings,\n",
    "                 num_layers,\n",
    "                 pad_token,\n",
    "                 freeze_glove=False,\n",
    "                 ):\n",
    "        super(Encoder, self).__init__()\n",
    "        self.input_size = input_size\n",
    "        self.hidden_size = hidden_size\n",
    "        self.num_layers = num_layers\n",
    "        self.embedding = nn.Embedding.from_pretrained(\n",
    "            pretrained_embeddings, padding_idx=pad_token, freeze=freeze_glove)\n",
    "\n",
    "        self.rnn = nn.LSTM(self.input_size, self.hidden_size, num_layers=self.num_layers, batch_first=False)\n",
    "\n",
    "    def forward(self, text):\n",
    "      '''\n",
    "      Text size is batch size, bill length\n",
    "      '''\n",
    "      # Embedded size is sequence length, batch size, glove vecs size\n",
    "      embedded = self.embedding(text) #.view(-1, len(text), 300)\n",
    "      # This above is batch first, but the rnn takes seq length, batch, size\n",
    "      embedded = embedded.permute(1, 0, 2)\n",
    "      # outputs is size (sequence length, batch_size, hidden_size)\n",
    "      outputs, hidden = self.rnn(embedded)\n",
    "      # each element in hidden is size (num_layers * num_directions (which is 1 unless using a bidirectional LSTM), batch_size, hidden_size)\n",
    "      return outputs.float(), tuple([v.float() for v in hidden])"
   ]
  },
  {
   "cell_type": "code",
   "execution_count": 22,
   "metadata": {},
   "outputs": [],
   "source": [
    "class Decoder(nn.Module):\n",
    "    def __init__(self, input_size, output_dim, hidden_dim, pretrained_embeddings, num_layers, pad_token, freeze_glove=False):\n",
    "        super().__init__()\n",
    "\n",
    "        self.input_size = input_size\n",
    "        # output dim should equal VOCAB size\n",
    "        self.output_dim = output_dim\n",
    "        # hidden_dim should equal the hidden_dim of the ENCODER\n",
    "        self.hidden_dim = hidden_dim\n",
    "        self.num_layers = num_layers\n",
    "        self.rnn = nn.LSTM(self.input_size, hidden_dim, num_layers=self.num_layers, batch_first=False)\n",
    "        self.fc_out = nn.Linear(hidden_dim, output_dim) # transfer to device?\n",
    "        \n",
    "        self.softmax = nn.Softmax(dim=1)\n",
    "        self.embedding = nn.Embedding.from_pretrained(\n",
    "            pretrained_embeddings, padding_idx=pad_token, freeze=freeze_glove)\n",
    "\n",
    "    def forward(self, input_word, hidden):\n",
    " \n",
    "        embedded = self.embedding(input_word)\n",
    "        embedded = embedded.permute(1, 0, 2)\n",
    "        output, hidden= self.rnn(embedded, hidden)\n",
    "        linear = self.fc_out(output.squeeze(0))\n",
    "        prediction = self.softmax(linear)\n",
    "\n",
    "        return prediction, hidden"
   ]
  },
  {
   "cell_type": "code",
   "execution_count": 24,
   "metadata": {},
   "outputs": [],
   "source": [
    "INPUT_SIZE = GLOVE_VECS.size()[1] #300\n",
    "HIDDEN_SIZE = 128\n",
    "NUM_LAYERS = 4\n",
    "LOG_INTERVAL = 10"
   ]
  },
  {
   "cell_type": "code",
   "execution_count": 25,
   "metadata": {},
   "outputs": [],
   "source": [
    "encoder = Encoder(INPUT_SIZE, HIDDEN_SIZE, GLOVE_VECS, NUM_LAYERS, PAD_TOKEN, False)\n",
    "decoder = Decoder(INPUT_SIZE, VOCAB_SIZE, HIDDEN_SIZE, GLOVE_VECS, NUM_LAYERS, PAD_TOKEN, False)"
   ]
  },
  {
   "source": [
    "## Training"
   ],
   "cell_type": "markdown",
   "metadata": {}
  },
  {
   "cell_type": "code",
   "execution_count": 26,
   "metadata": {},
   "outputs": [],
   "source": [
    "OPTIMIZER = optim.Adam(decoder.parameters(), lr=.003)\n",
    "OPTIMIZER2 = optim.Adam(encoder.parameters(), lr=.003)\n",
    "LOSS_FN = nn.CrossEntropyLoss(ignore_index=PAD_TOKEN) "
   ]
  },
  {
   "cell_type": "code",
   "execution_count": 28,
   "metadata": {},
   "outputs": [],
   "source": [
    "def get_score(model, dataloader, loss_function):\n",
    "  model.eval()\n",
    "  total_loss = 0\n",
    "  with torch.no_grad():\n",
    "    for i, (label, text) in enumerate(dataloader):\n",
    "      preds, output = model(label, text)\n",
    "      output_dim = output.shape[-1]\n",
    "      output = output.view(-1, output_dim)\n",
    "      target = label.view(-1)\n",
    "\n",
    "      loss = loss_function(output, target)\n",
    "      total_loss += loss.item()\n",
    "\n",
    "    return total_loss / len(dataloader)"
   ]
  },
  {
   "cell_type": "code",
   "execution_count": 27,
   "metadata": {},
   "outputs": [],
   "source": [
    "def train_an_epoch(encoder, decoder, dataloader, optimizer, optimizer2, loss_function, log_interval):\n",
    "    encoder.train()\n",
    "    decoder.train()\n",
    "    \n",
    "    for idx, (label, text) in enumerate(dataloader):\n",
    "        encoder.zero_grad()\n",
    "        decoder.zero_grad()\n",
    "\n",
    "        batch_size = label.shape[0]\n",
    "        label_length = label.shape[1]\n",
    "        vocab_size = self.decoder.output_dim\n",
    "\n",
    "        decode_outputs = torch.zeros(label_length, batch_size, vocab_size)\n",
    "\n",
    "        output, hidden0 = self.encoder(text)\n",
    "        input_word = label[:, 0]\n",
    "\n",
    "        for t in range(1, label_length):\n",
    "            input_word = input_word.unsqueeze(1)\n",
    "            output, hidden = self.decoder(input_word, hidden0)\n",
    "            decode_outputs[t] = output\n",
    "            top_choice = torch.max(output, dim=1)[1]\n",
    "            input_word = label[:, t]\n",
    "            hidden0 = hidden\n",
    "\n",
    "            \n",
    "        preds, output = encoder(label, text)\n",
    "        output_dim = output.shape[-1]\n",
    "\n",
    "        output = output.view(-1, output_dim)\n",
    "        target = label.view(-1)\n",
    "\n",
    "        loss = loss_function(output, target)\n",
    "        loss.backward()\n",
    "\n",
    "        torch.nn.utils.clip_grad_norm_(model.parameters(), 1)\n",
    "\n",
    "        optimizer.step()\n",
    "        optimizer2.step()\n",
    "\n",
    "\n",
    "        if idx % log_interval == 0 and idx > 0:\n",
    "            print(f'Iteration: {idx}; Loss: {loss:.3f}.')\n",
    "        "
   ]
  },
  {
   "cell_type": "code",
   "execution_count": 29,
   "metadata": {
    "tags": []
   },
   "outputs": [
    {
     "output_type": "execute_result",
     "data": {
      "text/plain": [
       "[<matplotlib.lines.Line2D at 0x1ef8a218df0>]"
      ]
     },
     "metadata": {},
     "execution_count": 29
    },
    {
     "output_type": "display_data",
     "data": {
      "text/plain": "<Figure size 432x288 with 1 Axes>",
      "image/svg+xml": "<?xml version=\"1.0\" encoding=\"utf-8\" standalone=\"no\"?>\r\n<!DOCTYPE svg PUBLIC \"-//W3C//DTD SVG 1.1//EN\"\r\n  \"http://www.w3.org/Graphics/SVG/1.1/DTD/svg11.dtd\">\r\n<!-- Created with matplotlib (https://matplotlib.org/) -->\r\n<svg height=\"248.518125pt\" version=\"1.1\" viewBox=\"0 0 372.103125 248.518125\" width=\"372.103125pt\" xmlns=\"http://www.w3.org/2000/svg\" xmlns:xlink=\"http://www.w3.org/1999/xlink\">\r\n <metadata>\r\n  <rdf:RDF xmlns:cc=\"http://creativecommons.org/ns#\" xmlns:dc=\"http://purl.org/dc/elements/1.1/\" xmlns:rdf=\"http://www.w3.org/1999/02/22-rdf-syntax-ns#\">\r\n   <cc:Work>\r\n    <dc:type rdf:resource=\"http://purl.org/dc/dcmitype/StillImage\"/>\r\n    <dc:date>2021-05-24T21:34:26.945062</dc:date>\r\n    <dc:format>image/svg+xml</dc:format>\r\n    <dc:creator>\r\n     <cc:Agent>\r\n      <dc:title>Matplotlib v3.3.4, https://matplotlib.org/</dc:title>\r\n     </cc:Agent>\r\n    </dc:creator>\r\n   </cc:Work>\r\n  </rdf:RDF>\r\n </metadata>\r\n <defs>\r\n  <style type=\"text/css\">*{stroke-linecap:butt;stroke-linejoin:round;}</style>\r\n </defs>\r\n <g id=\"figure_1\">\r\n  <g id=\"patch_1\">\r\n   <path d=\"M 0 248.518125 \r\nL 372.103125 248.518125 \r\nL 372.103125 0 \r\nL 0 0 \r\nz\r\n\" style=\"fill:none;\"/>\r\n  </g>\r\n  <g id=\"axes_1\">\r\n   <g id=\"patch_2\">\r\n    <path d=\"M 30.103125 224.64 \r\nL 364.903125 224.64 \r\nL 364.903125 7.2 \r\nL 30.103125 7.2 \r\nz\r\n\" style=\"fill:#ffffff;\"/>\r\n   </g>\r\n   <g id=\"matplotlib.axis_1\">\r\n    <g id=\"xtick_1\">\r\n     <g id=\"line2d_1\">\r\n      <defs>\r\n       <path d=\"M 0 0 \r\nL 0 3.5 \r\n\" id=\"md59a1e2f97\" style=\"stroke:#000000;stroke-width:0.8;\"/>\r\n      </defs>\r\n      <g>\r\n       <use style=\"stroke:#000000;stroke-width:0.8;\" x=\"69.350015\" xlink:href=\"#md59a1e2f97\" y=\"224.64\"/>\r\n      </g>\r\n     </g>\r\n     <g id=\"text_1\">\r\n      <!-- 2.5 -->\r\n      <g transform=\"translate(61.398452 239.238437)scale(0.1 -0.1)\">\r\n       <defs>\r\n        <path d=\"M 19.1875 8.296875 \r\nL 53.609375 8.296875 \r\nL 53.609375 0 \r\nL 7.328125 0 \r\nL 7.328125 8.296875 \r\nQ 12.9375 14.109375 22.625 23.890625 \r\nQ 32.328125 33.6875 34.8125 36.53125 \r\nQ 39.546875 41.84375 41.421875 45.53125 \r\nQ 43.3125 49.21875 43.3125 52.78125 \r\nQ 43.3125 58.59375 39.234375 62.25 \r\nQ 35.15625 65.921875 28.609375 65.921875 \r\nQ 23.96875 65.921875 18.8125 64.3125 \r\nQ 13.671875 62.703125 7.8125 59.421875 \r\nL 7.8125 69.390625 \r\nQ 13.765625 71.78125 18.9375 73 \r\nQ 24.125 74.21875 28.421875 74.21875 \r\nQ 39.75 74.21875 46.484375 68.546875 \r\nQ 53.21875 62.890625 53.21875 53.421875 \r\nQ 53.21875 48.921875 51.53125 44.890625 \r\nQ 49.859375 40.875 45.40625 35.40625 \r\nQ 44.1875 33.984375 37.640625 27.21875 \r\nQ 31.109375 20.453125 19.1875 8.296875 \r\nz\r\n\" id=\"DejaVuSans-50\"/>\r\n        <path d=\"M 10.6875 12.40625 \r\nL 21 12.40625 \r\nL 21 0 \r\nL 10.6875 0 \r\nz\r\n\" id=\"DejaVuSans-46\"/>\r\n        <path d=\"M 10.796875 72.90625 \r\nL 49.515625 72.90625 \r\nL 49.515625 64.59375 \r\nL 19.828125 64.59375 \r\nL 19.828125 46.734375 \r\nQ 21.96875 47.46875 24.109375 47.828125 \r\nQ 26.265625 48.1875 28.421875 48.1875 \r\nQ 40.625 48.1875 47.75 41.5 \r\nQ 54.890625 34.8125 54.890625 23.390625 \r\nQ 54.890625 11.625 47.5625 5.09375 \r\nQ 40.234375 -1.421875 26.90625 -1.421875 \r\nQ 22.3125 -1.421875 17.546875 -0.640625 \r\nQ 12.796875 0.140625 7.71875 1.703125 \r\nL 7.71875 11.625 \r\nQ 12.109375 9.234375 16.796875 8.0625 \r\nQ 21.484375 6.890625 26.703125 6.890625 \r\nQ 35.15625 6.890625 40.078125 11.328125 \r\nQ 45.015625 15.765625 45.015625 23.390625 \r\nQ 45.015625 31 40.078125 35.4375 \r\nQ 35.15625 39.890625 26.703125 39.890625 \r\nQ 22.75 39.890625 18.8125 39.015625 \r\nQ 14.890625 38.140625 10.796875 36.28125 \r\nz\r\n\" id=\"DejaVuSans-53\"/>\r\n       </defs>\r\n       <use xlink:href=\"#DejaVuSans-50\"/>\r\n       <use x=\"63.623047\" xlink:href=\"#DejaVuSans-46\"/>\r\n       <use x=\"95.410156\" xlink:href=\"#DejaVuSans-53\"/>\r\n      </g>\r\n     </g>\r\n    </g>\r\n    <g id=\"xtick_2\">\r\n     <g id=\"line2d_2\">\r\n      <g>\r\n       <use style=\"stroke:#000000;stroke-width:0.8;\" x=\"109.397862\" xlink:href=\"#md59a1e2f97\" y=\"224.64\"/>\r\n      </g>\r\n     </g>\r\n     <g id=\"text_2\">\r\n      <!-- 5.0 -->\r\n      <g transform=\"translate(101.446299 239.238437)scale(0.1 -0.1)\">\r\n       <defs>\r\n        <path d=\"M 31.78125 66.40625 \r\nQ 24.171875 66.40625 20.328125 58.90625 \r\nQ 16.5 51.421875 16.5 36.375 \r\nQ 16.5 21.390625 20.328125 13.890625 \r\nQ 24.171875 6.390625 31.78125 6.390625 \r\nQ 39.453125 6.390625 43.28125 13.890625 \r\nQ 47.125 21.390625 47.125 36.375 \r\nQ 47.125 51.421875 43.28125 58.90625 \r\nQ 39.453125 66.40625 31.78125 66.40625 \r\nz\r\nM 31.78125 74.21875 \r\nQ 44.046875 74.21875 50.515625 64.515625 \r\nQ 56.984375 54.828125 56.984375 36.375 \r\nQ 56.984375 17.96875 50.515625 8.265625 \r\nQ 44.046875 -1.421875 31.78125 -1.421875 \r\nQ 19.53125 -1.421875 13.0625 8.265625 \r\nQ 6.59375 17.96875 6.59375 36.375 \r\nQ 6.59375 54.828125 13.0625 64.515625 \r\nQ 19.53125 74.21875 31.78125 74.21875 \r\nz\r\n\" id=\"DejaVuSans-48\"/>\r\n       </defs>\r\n       <use xlink:href=\"#DejaVuSans-53\"/>\r\n       <use x=\"63.623047\" xlink:href=\"#DejaVuSans-46\"/>\r\n       <use x=\"95.410156\" xlink:href=\"#DejaVuSans-48\"/>\r\n      </g>\r\n     </g>\r\n    </g>\r\n    <g id=\"xtick_3\">\r\n     <g id=\"line2d_3\">\r\n      <g>\r\n       <use style=\"stroke:#000000;stroke-width:0.8;\" x=\"149.445709\" xlink:href=\"#md59a1e2f97\" y=\"224.64\"/>\r\n      </g>\r\n     </g>\r\n     <g id=\"text_3\">\r\n      <!-- 7.5 -->\r\n      <g transform=\"translate(141.494146 239.238437)scale(0.1 -0.1)\">\r\n       <defs>\r\n        <path d=\"M 8.203125 72.90625 \r\nL 55.078125 72.90625 \r\nL 55.078125 68.703125 \r\nL 28.609375 0 \r\nL 18.3125 0 \r\nL 43.21875 64.59375 \r\nL 8.203125 64.59375 \r\nz\r\n\" id=\"DejaVuSans-55\"/>\r\n       </defs>\r\n       <use xlink:href=\"#DejaVuSans-55\"/>\r\n       <use x=\"63.623047\" xlink:href=\"#DejaVuSans-46\"/>\r\n       <use x=\"95.410156\" xlink:href=\"#DejaVuSans-53\"/>\r\n      </g>\r\n     </g>\r\n    </g>\r\n    <g id=\"xtick_4\">\r\n     <g id=\"line2d_4\">\r\n      <g>\r\n       <use style=\"stroke:#000000;stroke-width:0.8;\" x=\"189.493556\" xlink:href=\"#md59a1e2f97\" y=\"224.64\"/>\r\n      </g>\r\n     </g>\r\n     <g id=\"text_4\">\r\n      <!-- 10.0 -->\r\n      <g transform=\"translate(178.360743 239.238437)scale(0.1 -0.1)\">\r\n       <defs>\r\n        <path d=\"M 12.40625 8.296875 \r\nL 28.515625 8.296875 \r\nL 28.515625 63.921875 \r\nL 10.984375 60.40625 \r\nL 10.984375 69.390625 \r\nL 28.421875 72.90625 \r\nL 38.28125 72.90625 \r\nL 38.28125 8.296875 \r\nL 54.390625 8.296875 \r\nL 54.390625 0 \r\nL 12.40625 0 \r\nz\r\n\" id=\"DejaVuSans-49\"/>\r\n       </defs>\r\n       <use xlink:href=\"#DejaVuSans-49\"/>\r\n       <use x=\"63.623047\" xlink:href=\"#DejaVuSans-48\"/>\r\n       <use x=\"127.246094\" xlink:href=\"#DejaVuSans-46\"/>\r\n       <use x=\"159.033203\" xlink:href=\"#DejaVuSans-48\"/>\r\n      </g>\r\n     </g>\r\n    </g>\r\n    <g id=\"xtick_5\">\r\n     <g id=\"line2d_5\">\r\n      <g>\r\n       <use style=\"stroke:#000000;stroke-width:0.8;\" x=\"229.541403\" xlink:href=\"#md59a1e2f97\" y=\"224.64\"/>\r\n      </g>\r\n     </g>\r\n     <g id=\"text_5\">\r\n      <!-- 12.5 -->\r\n      <g transform=\"translate(218.40859 239.238437)scale(0.1 -0.1)\">\r\n       <use xlink:href=\"#DejaVuSans-49\"/>\r\n       <use x=\"63.623047\" xlink:href=\"#DejaVuSans-50\"/>\r\n       <use x=\"127.246094\" xlink:href=\"#DejaVuSans-46\"/>\r\n       <use x=\"159.033203\" xlink:href=\"#DejaVuSans-53\"/>\r\n      </g>\r\n     </g>\r\n    </g>\r\n    <g id=\"xtick_6\">\r\n     <g id=\"line2d_6\">\r\n      <g>\r\n       <use style=\"stroke:#000000;stroke-width:0.8;\" x=\"269.589249\" xlink:href=\"#md59a1e2f97\" y=\"224.64\"/>\r\n      </g>\r\n     </g>\r\n     <g id=\"text_6\">\r\n      <!-- 15.0 -->\r\n      <g transform=\"translate(258.456437 239.238437)scale(0.1 -0.1)\">\r\n       <use xlink:href=\"#DejaVuSans-49\"/>\r\n       <use x=\"63.623047\" xlink:href=\"#DejaVuSans-53\"/>\r\n       <use x=\"127.246094\" xlink:href=\"#DejaVuSans-46\"/>\r\n       <use x=\"159.033203\" xlink:href=\"#DejaVuSans-48\"/>\r\n      </g>\r\n     </g>\r\n    </g>\r\n    <g id=\"xtick_7\">\r\n     <g id=\"line2d_7\">\r\n      <g>\r\n       <use style=\"stroke:#000000;stroke-width:0.8;\" x=\"309.637096\" xlink:href=\"#md59a1e2f97\" y=\"224.64\"/>\r\n      </g>\r\n     </g>\r\n     <g id=\"text_7\">\r\n      <!-- 17.5 -->\r\n      <g transform=\"translate(298.504284 239.238437)scale(0.1 -0.1)\">\r\n       <use xlink:href=\"#DejaVuSans-49\"/>\r\n       <use x=\"63.623047\" xlink:href=\"#DejaVuSans-55\"/>\r\n       <use x=\"127.246094\" xlink:href=\"#DejaVuSans-46\"/>\r\n       <use x=\"159.033203\" xlink:href=\"#DejaVuSans-53\"/>\r\n      </g>\r\n     </g>\r\n    </g>\r\n    <g id=\"xtick_8\">\r\n     <g id=\"line2d_8\">\r\n      <g>\r\n       <use style=\"stroke:#000000;stroke-width:0.8;\" x=\"349.684943\" xlink:href=\"#md59a1e2f97\" y=\"224.64\"/>\r\n      </g>\r\n     </g>\r\n     <g id=\"text_8\">\r\n      <!-- 20.0 -->\r\n      <g transform=\"translate(338.552131 239.238437)scale(0.1 -0.1)\">\r\n       <use xlink:href=\"#DejaVuSans-50\"/>\r\n       <use x=\"63.623047\" xlink:href=\"#DejaVuSans-48\"/>\r\n       <use x=\"127.246094\" xlink:href=\"#DejaVuSans-46\"/>\r\n       <use x=\"159.033203\" xlink:href=\"#DejaVuSans-48\"/>\r\n      </g>\r\n     </g>\r\n    </g>\r\n   </g>\r\n   <g id=\"matplotlib.axis_2\">\r\n    <g id=\"ytick_1\">\r\n     <g id=\"line2d_9\">\r\n      <defs>\r\n       <path d=\"M 0 0 \r\nL -3.5 0 \r\n\" id=\"mfda61d54d0\" style=\"stroke:#000000;stroke-width:0.8;\"/>\r\n      </defs>\r\n      <g>\r\n       <use style=\"stroke:#000000;stroke-width:0.8;\" x=\"30.103125\" xlink:href=\"#mfda61d54d0\" y=\"205.581898\"/>\r\n      </g>\r\n     </g>\r\n     <g id=\"text_9\">\r\n      <!-- 1.7 -->\r\n      <g transform=\"translate(7.2 209.381117)scale(0.1 -0.1)\">\r\n       <use xlink:href=\"#DejaVuSans-49\"/>\r\n       <use x=\"63.623047\" xlink:href=\"#DejaVuSans-46\"/>\r\n       <use x=\"95.410156\" xlink:href=\"#DejaVuSans-55\"/>\r\n      </g>\r\n     </g>\r\n    </g>\r\n    <g id=\"ytick_2\">\r\n     <g id=\"line2d_10\">\r\n      <g>\r\n       <use style=\"stroke:#000000;stroke-width:0.8;\" x=\"30.103125\" xlink:href=\"#mfda61d54d0\" y=\"174.0283\"/>\r\n      </g>\r\n     </g>\r\n     <g id=\"text_10\">\r\n      <!-- 1.8 -->\r\n      <g transform=\"translate(7.2 177.827519)scale(0.1 -0.1)\">\r\n       <defs>\r\n        <path d=\"M 31.78125 34.625 \r\nQ 24.75 34.625 20.71875 30.859375 \r\nQ 16.703125 27.09375 16.703125 20.515625 \r\nQ 16.703125 13.921875 20.71875 10.15625 \r\nQ 24.75 6.390625 31.78125 6.390625 \r\nQ 38.8125 6.390625 42.859375 10.171875 \r\nQ 46.921875 13.96875 46.921875 20.515625 \r\nQ 46.921875 27.09375 42.890625 30.859375 \r\nQ 38.875 34.625 31.78125 34.625 \r\nz\r\nM 21.921875 38.8125 \r\nQ 15.578125 40.375 12.03125 44.71875 \r\nQ 8.5 49.078125 8.5 55.328125 \r\nQ 8.5 64.0625 14.71875 69.140625 \r\nQ 20.953125 74.21875 31.78125 74.21875 \r\nQ 42.671875 74.21875 48.875 69.140625 \r\nQ 55.078125 64.0625 55.078125 55.328125 \r\nQ 55.078125 49.078125 51.53125 44.71875 \r\nQ 48 40.375 41.703125 38.8125 \r\nQ 48.828125 37.15625 52.796875 32.3125 \r\nQ 56.78125 27.484375 56.78125 20.515625 \r\nQ 56.78125 9.90625 50.3125 4.234375 \r\nQ 43.84375 -1.421875 31.78125 -1.421875 \r\nQ 19.734375 -1.421875 13.25 4.234375 \r\nQ 6.78125 9.90625 6.78125 20.515625 \r\nQ 6.78125 27.484375 10.78125 32.3125 \r\nQ 14.796875 37.15625 21.921875 38.8125 \r\nz\r\nM 18.3125 54.390625 \r\nQ 18.3125 48.734375 21.84375 45.5625 \r\nQ 25.390625 42.390625 31.78125 42.390625 \r\nQ 38.140625 42.390625 41.71875 45.5625 \r\nQ 45.3125 48.734375 45.3125 54.390625 \r\nQ 45.3125 60.0625 41.71875 63.234375 \r\nQ 38.140625 66.40625 31.78125 66.40625 \r\nQ 25.390625 66.40625 21.84375 63.234375 \r\nQ 18.3125 60.0625 18.3125 54.390625 \r\nz\r\n\" id=\"DejaVuSans-56\"/>\r\n       </defs>\r\n       <use xlink:href=\"#DejaVuSans-49\"/>\r\n       <use x=\"63.623047\" xlink:href=\"#DejaVuSans-46\"/>\r\n       <use x=\"95.410156\" xlink:href=\"#DejaVuSans-56\"/>\r\n      </g>\r\n     </g>\r\n    </g>\r\n    <g id=\"ytick_3\">\r\n     <g id=\"line2d_11\">\r\n      <g>\r\n       <use style=\"stroke:#000000;stroke-width:0.8;\" x=\"30.103125\" xlink:href=\"#mfda61d54d0\" y=\"142.474702\"/>\r\n      </g>\r\n     </g>\r\n     <g id=\"text_11\">\r\n      <!-- 1.9 -->\r\n      <g transform=\"translate(7.2 146.27392)scale(0.1 -0.1)\">\r\n       <defs>\r\n        <path d=\"M 10.984375 1.515625 \r\nL 10.984375 10.5 \r\nQ 14.703125 8.734375 18.5 7.8125 \r\nQ 22.3125 6.890625 25.984375 6.890625 \r\nQ 35.75 6.890625 40.890625 13.453125 \r\nQ 46.046875 20.015625 46.78125 33.40625 \r\nQ 43.953125 29.203125 39.59375 26.953125 \r\nQ 35.25 24.703125 29.984375 24.703125 \r\nQ 19.046875 24.703125 12.671875 31.3125 \r\nQ 6.296875 37.9375 6.296875 49.421875 \r\nQ 6.296875 60.640625 12.9375 67.421875 \r\nQ 19.578125 74.21875 30.609375 74.21875 \r\nQ 43.265625 74.21875 49.921875 64.515625 \r\nQ 56.59375 54.828125 56.59375 36.375 \r\nQ 56.59375 19.140625 48.40625 8.859375 \r\nQ 40.234375 -1.421875 26.421875 -1.421875 \r\nQ 22.703125 -1.421875 18.890625 -0.6875 \r\nQ 15.09375 0.046875 10.984375 1.515625 \r\nz\r\nM 30.609375 32.421875 \r\nQ 37.25 32.421875 41.125 36.953125 \r\nQ 45.015625 41.5 45.015625 49.421875 \r\nQ 45.015625 57.28125 41.125 61.84375 \r\nQ 37.25 66.40625 30.609375 66.40625 \r\nQ 23.96875 66.40625 20.09375 61.84375 \r\nQ 16.21875 57.28125 16.21875 49.421875 \r\nQ 16.21875 41.5 20.09375 36.953125 \r\nQ 23.96875 32.421875 30.609375 32.421875 \r\nz\r\n\" id=\"DejaVuSans-57\"/>\r\n       </defs>\r\n       <use xlink:href=\"#DejaVuSans-49\"/>\r\n       <use x=\"63.623047\" xlink:href=\"#DejaVuSans-46\"/>\r\n       <use x=\"95.410156\" xlink:href=\"#DejaVuSans-57\"/>\r\n      </g>\r\n     </g>\r\n    </g>\r\n    <g id=\"ytick_4\">\r\n     <g id=\"line2d_12\">\r\n      <g>\r\n       <use style=\"stroke:#000000;stroke-width:0.8;\" x=\"30.103125\" xlink:href=\"#mfda61d54d0\" y=\"110.921103\"/>\r\n      </g>\r\n     </g>\r\n     <g id=\"text_12\">\r\n      <!-- 2.0 -->\r\n      <g transform=\"translate(7.2 114.720322)scale(0.1 -0.1)\">\r\n       <use xlink:href=\"#DejaVuSans-50\"/>\r\n       <use x=\"63.623047\" xlink:href=\"#DejaVuSans-46\"/>\r\n       <use x=\"95.410156\" xlink:href=\"#DejaVuSans-48\"/>\r\n      </g>\r\n     </g>\r\n    </g>\r\n    <g id=\"ytick_5\">\r\n     <g id=\"line2d_13\">\r\n      <g>\r\n       <use style=\"stroke:#000000;stroke-width:0.8;\" x=\"30.103125\" xlink:href=\"#mfda61d54d0\" y=\"79.367505\"/>\r\n      </g>\r\n     </g>\r\n     <g id=\"text_13\">\r\n      <!-- 2.1 -->\r\n      <g transform=\"translate(7.2 83.166724)scale(0.1 -0.1)\">\r\n       <use xlink:href=\"#DejaVuSans-50\"/>\r\n       <use x=\"63.623047\" xlink:href=\"#DejaVuSans-46\"/>\r\n       <use x=\"95.410156\" xlink:href=\"#DejaVuSans-49\"/>\r\n      </g>\r\n     </g>\r\n    </g>\r\n    <g id=\"ytick_6\">\r\n     <g id=\"line2d_14\">\r\n      <g>\r\n       <use style=\"stroke:#000000;stroke-width:0.8;\" x=\"30.103125\" xlink:href=\"#mfda61d54d0\" y=\"47.813906\"/>\r\n      </g>\r\n     </g>\r\n     <g id=\"text_14\">\r\n      <!-- 2.2 -->\r\n      <g transform=\"translate(7.2 51.613125)scale(0.1 -0.1)\">\r\n       <use xlink:href=\"#DejaVuSans-50\"/>\r\n       <use x=\"63.623047\" xlink:href=\"#DejaVuSans-46\"/>\r\n       <use x=\"95.410156\" xlink:href=\"#DejaVuSans-50\"/>\r\n      </g>\r\n     </g>\r\n    </g>\r\n    <g id=\"ytick_7\">\r\n     <g id=\"line2d_15\">\r\n      <g>\r\n       <use style=\"stroke:#000000;stroke-width:0.8;\" x=\"30.103125\" xlink:href=\"#mfda61d54d0\" y=\"16.260308\"/>\r\n      </g>\r\n     </g>\r\n     <g id=\"text_15\">\r\n      <!-- 2.3 -->\r\n      <g transform=\"translate(7.2 20.059527)scale(0.1 -0.1)\">\r\n       <defs>\r\n        <path d=\"M 40.578125 39.3125 \r\nQ 47.65625 37.796875 51.625 33 \r\nQ 55.609375 28.21875 55.609375 21.1875 \r\nQ 55.609375 10.40625 48.1875 4.484375 \r\nQ 40.765625 -1.421875 27.09375 -1.421875 \r\nQ 22.515625 -1.421875 17.65625 -0.515625 \r\nQ 12.796875 0.390625 7.625 2.203125 \r\nL 7.625 11.71875 \r\nQ 11.71875 9.328125 16.59375 8.109375 \r\nQ 21.484375 6.890625 26.8125 6.890625 \r\nQ 36.078125 6.890625 40.9375 10.546875 \r\nQ 45.796875 14.203125 45.796875 21.1875 \r\nQ 45.796875 27.640625 41.28125 31.265625 \r\nQ 36.765625 34.90625 28.71875 34.90625 \r\nL 20.21875 34.90625 \r\nL 20.21875 43.015625 \r\nL 29.109375 43.015625 \r\nQ 36.375 43.015625 40.234375 45.921875 \r\nQ 44.09375 48.828125 44.09375 54.296875 \r\nQ 44.09375 59.90625 40.109375 62.90625 \r\nQ 36.140625 65.921875 28.71875 65.921875 \r\nQ 24.65625 65.921875 20.015625 65.03125 \r\nQ 15.375 64.15625 9.8125 62.3125 \r\nL 9.8125 71.09375 \r\nQ 15.4375 72.65625 20.34375 73.4375 \r\nQ 25.25 74.21875 29.59375 74.21875 \r\nQ 40.828125 74.21875 47.359375 69.109375 \r\nQ 53.90625 64.015625 53.90625 55.328125 \r\nQ 53.90625 49.265625 50.4375 45.09375 \r\nQ 46.96875 40.921875 40.578125 39.3125 \r\nz\r\n\" id=\"DejaVuSans-51\"/>\r\n       </defs>\r\n       <use xlink:href=\"#DejaVuSans-50\"/>\r\n       <use x=\"63.623047\" xlink:href=\"#DejaVuSans-46\"/>\r\n       <use x=\"95.410156\" xlink:href=\"#DejaVuSans-51\"/>\r\n      </g>\r\n     </g>\r\n    </g>\r\n   </g>\r\n   <g id=\"line2d_16\">\r\n    <path clip-path=\"url(#p1cde0fad25)\" d=\"M 45.321307 17.083636 \r\nL 61.340446 19.991262 \r\nL 77.359584 29.715822 \r\nL 93.378723 53.510129 \r\nL 109.397862 73.475474 \r\nL 125.417001 93.75069 \r\nL 141.436139 109.513933 \r\nL 157.455278 122.540961 \r\nL 173.474417 136.584115 \r\nL 189.493556 148.213113 \r\nL 205.512694 158.581902 \r\nL 221.531833 168.574392 \r\nL 237.550972 176.818357 \r\nL 253.570111 185.059087 \r\nL 269.589249 192.965835 \r\nL 285.608388 198.764949 \r\nL 301.627527 203.43513 \r\nL 317.646666 208.359324 \r\nL 333.665804 211.741837 \r\nL 349.684943 214.756364 \r\n\" style=\"fill:none;stroke:#1f77b4;stroke-linecap:square;stroke-width:1.5;\"/>\r\n   </g>\r\n   <g id=\"patch_3\">\r\n    <path d=\"M 30.103125 224.64 \r\nL 30.103125 7.2 \r\n\" style=\"fill:none;stroke:#000000;stroke-linecap:square;stroke-linejoin:miter;stroke-width:0.8;\"/>\r\n   </g>\r\n   <g id=\"patch_4\">\r\n    <path d=\"M 364.903125 224.64 \r\nL 364.903125 7.2 \r\n\" style=\"fill:none;stroke:#000000;stroke-linecap:square;stroke-linejoin:miter;stroke-width:0.8;\"/>\r\n   </g>\r\n   <g id=\"patch_5\">\r\n    <path d=\"M 30.103125 224.64 \r\nL 364.903125 224.64 \r\n\" style=\"fill:none;stroke:#000000;stroke-linecap:square;stroke-linejoin:miter;stroke-width:0.8;\"/>\r\n   </g>\r\n   <g id=\"patch_6\">\r\n    <path d=\"M 30.103125 7.2 \r\nL 364.903125 7.2 \r\n\" style=\"fill:none;stroke:#000000;stroke-linecap:square;stroke-linejoin:miter;stroke-width:0.8;\"/>\r\n   </g>\r\n  </g>\r\n </g>\r\n <defs>\r\n  <clipPath id=\"p1cde0fad25\">\r\n   <rect height=\"217.44\" width=\"334.8\" x=\"30.103125\" y=\"7.2\"/>\r\n  </clipPath>\r\n </defs>\r\n</svg>\r\n",
      "image/png": "[encoded data removed]"
     },
     "metadata": {
      "needs_background": "light"
     }
    }
   ],
   "source": [
    "EPOCHS = 20\n",
    "scores = []\n",
    "for epoch in range(1, EPOCHS + 1):\n",
    "  train_an_epoch(seq2seq, DATALOADERS_DICT['train_data'], OPTIMIZER, OPTIMIZER2, LOSS_FN, LOG_INTERVAL)\n",
    "  if SINGLE_RECORD:\n",
    "    validation_score = get_score(seq2seq, DATALOADERS_DICT['train_data'], LOSS_FN)\n",
    "  else:\n",
    "    validation_score = get_score(seq2seq, DATALOADERS_DICT['train_data'], LOSS_FN)\n",
    "  scores.append(validation_score)\n",
    "\n",
    "plt.plot(range(1, EPOCHS+1), scores)"
   ]
  },
  {
   "source": [
    "## Generation"
   ],
   "cell_type": "markdown",
   "metadata": {}
  },
  {
   "cell_type": "code",
   "execution_count": 30,
   "metadata": {},
   "outputs": [],
   "source": [
    "def generate(encoder, decoder, text, batch_size, method='sample'):\n",
    "    start_token = torch.LongTensor([VOCAB.stoi['<sos>']])\n",
    "    current_token = torch.cat((start_token, torch.zeros(BATCH_SIZE - 1))).int().unsqueeze(1)\n",
    "    print(current_token)\n",
    "    t = 0\n",
    "    words = []\n",
    "    encoder.eval()\n",
    "    decoder.eval()\n",
    "    with torch.no_grad():\n",
    "        enc_out, hidden0 = encoder(text)\n",
    "\n",
    "        while (t < MAX_SUMMARY_LENGTH) and (torch.sum(current_token) != VOCAB.stoi['<eos>']):\n",
    "            # Depending on if working with a single record or not may need to change this\n",
    "            word = current_token #.unsqueeze(1)\n",
    "            d_out, d_hid = decoder(word, hidden0)\n",
    "            if method=='sample':\n",
    "                i = 0\n",
    "                s = np.random.random()\n",
    "                while s >= 0:\n",
    "                    i += 1\n",
    "                    s -= d_out[:, i][0]\n",
    "                    \n",
    "                words.append(VOCAB.itos[i])\n",
    "\n",
    "            else:\n",
    "                words.append(VOCAB.itos[d_out[0].argmax(0)])\n",
    "            current_token = torch.cat((d_out[0].argmax(0).unsqueeze(0), torch.zeros(batch_size - 1))).int().unsqueeze(1)\n",
    "            hidden0 = [x.detach() for x in d_hid]\n",
    "            t+= 1\n",
    "    return words"
   ]
  },
  {
   "cell_type": "code",
   "execution_count": 31,
   "metadata": {
    "tags": []
   },
   "outputs": [
    {
     "output_type": "stream",
     "name": "stdout",
     "text": [
      "tensor([[3]], dtype=torch.int32)\n"
     ]
    },
    {
     "output_type": "execute_result",
     "data": {
      "text/plain": [
       "['make', 'drugs', 'legal', '<eos>']"
      ]
     },
     "metadata": {},
     "execution_count": 31
    }
   ],
   "source": [
    "generate(encoder, decoder, f, BATCH_SIZE, 'nH')"
   ]
  }
 ]
}