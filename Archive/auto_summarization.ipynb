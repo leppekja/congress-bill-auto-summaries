{
  "nbformat": 4,
  "nbformat_minor": 0,
  "metadata": {
    "colab": {
      "name": "auto-summarization.ipynb",
      "provenance": [],
      "collapsed_sections": []
    },
    "kernelspec": {
      "name": "python3",
      "display_name": "Python 3"
    },
    "language_info": {
      "name": "python"
    },
    "accelerator": "GPU"
  },
  "cells": [
    {
      "cell_type": "code",
      "metadata": {
        "id": "WWCpqDuvzwKa"
      },
      "source": [
        "import torch\n",
        "import torch.nn as nn\n",
        "import torch.optim as optim\n",
        "from torchtext.vocab import GloVe\n",
        "import numpy as np\n",
        "import random\n",
        "import os\n",
        "import pandas as pd\n",
        "from numpy import floor\n",
        "from numpy.random import shuffle\n",
        "from torch.utils.data import Dataset, DataLoader\n",
        "from torchtext.vocab import Vocab\n",
        "import torch.nn.functional as F\n",
        "from collections import Counter\n",
        "from functools import partial\n",
        "from ast import literal_eval"
      ],
      "execution_count": null,
      "outputs": []
    },
    {
      "cell_type": "code",
      "metadata": {
        "id": "0757CIPQ1OPu"
      },
      "source": [
        "SEED = 1\n",
        "\n",
        "random.seed(SEED)\n",
        "np.random.seed(SEED)\n",
        "torch.manual_seed(SEED)\n",
        "torch.cuda.manual_seed(SEED)\n",
        "torch.backends.cudnn.deterministic = True"
      ],
      "execution_count": null,
      "outputs": []
    },
    {
      "cell_type": "code",
      "metadata": {
        "id": "jnZd3cxp3366"
      },
      "source": [
        "from google.colab import drive\n",
        "drive.mount('/content/drive')"
      ],
      "execution_count": null,
      "outputs": []
    },
    {
      "cell_type": "code",
      "metadata": {
        "id": "-6JUiJYoz6Dd"
      },
      "source": [
        "DEVICE = torch.device('cuda' if torch.cuda.is_available() else 'cpu')"
      ],
      "execution_count": null,
      "outputs": []
    },
    {
      "cell_type": "code",
      "metadata": {
        "id": "yvTZE3aiz-7m"
      },
      "source": [
        "df = pd.read_csv('Sample.csv', converters={'summary_clean': literal_eval, 'bill_clean': literal_eval})"
      ],
      "execution_count": null,
      "outputs": []
    },
    {
      "cell_type": "code",
      "metadata": {
        "id": "Es8qWJHW4vkm"
      },
      "source": [
        "df = pd.read_csv('/content/drive/MyDrive/Cleaned_Summaries_And_Bills.csv', converters={'summary_clean': literal_eval, 'bill_clean': literal_eval})"
      ],
      "execution_count": null,
      "outputs": []
    },
    {
      "cell_type": "code",
      "metadata": {
        "colab": {
          "base_uri": "https://localhost:8080/",
          "height": 81
        },
        "id": "2qHls_vmiO2c",
        "outputId": "9b8e4dcf-723f-466b-a70c-dedfc6527df3"
      },
      "source": [
        "fake_data = pd.DataFrame({'bill_clean':[['<sos>', 'make', 'all', 'drugs', 'legal', '<eos>']], 'summary_clean':[['<sos>', 'make', 'drugs', 'legal', '<eos>']]})\n",
        "fake_data.head()"
      ],
      "execution_count": null,
      "outputs": [
        {
          "output_type": "execute_result",
          "data": {
            "text/html": [
              "<div>\n",
              "<style scoped>\n",
              "    .dataframe tbody tr th:only-of-type {\n",
              "        vertical-align: middle;\n",
              "    }\n",
              "\n",
              "    .dataframe tbody tr th {\n",
              "        vertical-align: top;\n",
              "    }\n",
              "\n",
              "    .dataframe thead th {\n",
              "        text-align: right;\n",
              "    }\n",
              "</style>\n",
              "<table border=\"1\" class=\"dataframe\">\n",
              "  <thead>\n",
              "    <tr style=\"text-align: right;\">\n",
              "      <th></th>\n",
              "      <th>bill_clean</th>\n",
              "      <th>summary_clean</th>\n",
              "    </tr>\n",
              "  </thead>\n",
              "  <tbody>\n",
              "    <tr>\n",
              "      <th>0</th>\n",
              "      <td>[&lt;sos&gt;, make, all, drugs, legal, &lt;eos&gt;]</td>\n",
              "      <td>[&lt;sos&gt;, make, drugs, legal, &lt;eos&gt;]</td>\n",
              "    </tr>\n",
              "  </tbody>\n",
              "</table>\n",
              "</div>"
            ],
            "text/plain": [
              "                                bill_clean                       summary_clean\n",
              "0  [<sos>, make, all, drugs, legal, <eos>]  [<sos>, make, drugs, legal, <eos>]"
            ]
          },
          "metadata": {
            "tags": []
          },
          "execution_count": 303
        }
      ]
    },
    {
      "cell_type": "code",
      "metadata": {
        "id": "bkgvU-vQ0RFZ"
      },
      "source": [
        "def compression(df):\n",
        "    return np.mean(df.summary_clean.apply(len) / df.bill_clean.apply(len))\n",
        "\n",
        "def trim_dataset(df, bottom_k_pct, top_k_pct):\n",
        "    '''\n",
        "    Remove the top and bottom n% records from the bills and summaries.\n",
        "    Expects tokenized and cleaned dataset.\n",
        "    Pass in pct as decimals.\n",
        "    '''\n",
        "    df['summary_length'] = df.summary_clean.apply(lambda x: len(x))\n",
        "    df['bill_length'] = df.bill_clean.apply(lambda x: len(x))\n",
        "    df['summary_rank'] = df.summary_length.rank(pct=True)\n",
        "    df['bill_rank'] = df.bill_length.rank(pct=True)\n",
        "    cut_df = df[(df.summary_rank >= bottom_k_pct) & (df.summary_rank <= top_k_pct) & (\n",
        "        df.bill_rank >= bottom_k_pct) & (df.bill_rank <= top_k_pct) & (df.summary_length <= df.bill_length)]\n",
        "\n",
        "    print('Cut ' + str(df.shape[0] - cut_df.shape[0]) + ' records.')\n",
        "    print('Count of records remaining: ', cut_df.shape[0])\n",
        "    print(f'New min summary length is {cut_df.summary_length.min()}')\n",
        "    print(f'New max summary length is {cut_df.summary_length.max()}')\n",
        "    print(f'New min bill length is {cut_df.bill_length.min()}')\n",
        "    print(f'New max bill length is {cut_df.bill_length.max()}')\n",
        "    print(f'Compression of summaries to bills is {compression(cut_df)}')\n",
        "    del cut_df['bill_length']\n",
        "    del cut_df['summary_length']\n",
        "    del cut_df['summary_rank']\n",
        "    del cut_df['bill_rank']\n",
        "    return cut_df"
      ],
      "execution_count": null,
      "outputs": []
    },
    {
      "cell_type": "code",
      "metadata": {
        "colab": {
          "base_uri": "https://localhost:8080/"
        },
        "id": "gs26fQTb1BMy",
        "outputId": "4a0a1f59-fa99-412e-ec7e-9d5ef4d6fd02"
      },
      "source": [
        "sample = trim_dataset(df, 0, .03)"
      ],
      "execution_count": null,
      "outputs": [
        {
          "output_type": "stream",
          "text": [
            "Cut 499 records.\n",
            "Count of records remaining:  1\n",
            "New min summary length is 17\n",
            "New max summary length is 17\n",
            "New min bill length is 160\n",
            "New max bill length is 160\n",
            "Compression of summaries to bills is 0.10625\n"
          ],
          "name": "stdout"
        }
      ]
    },
    {
      "cell_type": "code",
      "metadata": {
        "id": "9U3F60j_0mPN"
      },
      "source": [
        "def split(data, training_size, testing_size, valid_size, shuffle_data=True):\n",
        "    ''' Takes in a pandas dataframe as data. Returns three BillsDataset objects'''\n",
        "    assert training_size + testing_size + \\\n",
        "        valid_size == 1, 'Split sizes should sum to 1'\n",
        "\n",
        "    def split_index(size, index_length):\n",
        "        '''Converts decimal to # of samples to take'''\n",
        "        return int(floor(size * index_length))\n",
        "    # Split into training / testing / validation sets, assign as attributes.\n",
        "    indices = list(range(len(data)))\n",
        "\n",
        "    train_split = split_index(training_size, len(indices))\n",
        "    test_split = split_index(testing_size, len(indices))\n",
        "\n",
        "    if shuffle_data:\n",
        "        shuffle(indices)\n",
        "\n",
        "    training_data = data.iloc[indices[0:train_split]]\n",
        "    test_data = data.iloc[indices[train_split:train_split + test_split]]\n",
        "    validate_data = data.iloc[indices[train_split + test_split:]]\n",
        "\n",
        "    return (BillsDataset(training_data, 'summary_clean', 'bill_clean'),\n",
        "            BillsDataset(test_data, 'summary_clean', 'bill_clean'),\n",
        "            BillsDataset(validate_data, 'summary_clean', 'bill_clean'))"
      ],
      "execution_count": null,
      "outputs": []
    },
    {
      "cell_type": "code",
      "metadata": {
        "id": "iWNLjeOV0qxD"
      },
      "source": [
        "class BillsDataset(Dataset):\n",
        "    \"\"\"\n",
        "    Dataset for Congressional Bills\n",
        "    Adapted from https://pytorch.org/tutorials/beginner/data_loading_tutorial.html\n",
        "    and from https://gist.github.com/kevinzakka/d33bf8d6c7f06a9d8c76d97a7879f5cb.\n",
        "    \"\"\"\n",
        "\n",
        "    def __init__(self, df, summaries_col, bills_col, transform=None):\n",
        "        self.data = df.reset_index(drop=True)\n",
        "        self.labels = summaries_col\n",
        "        self.texts = bills_col\n",
        "        self.transform = transform\n",
        "\n",
        "    def __len__(self):\n",
        "        return len(self.data)\n",
        "\n",
        "    def __getitem__(self, idx):\n",
        "        if torch.is_tensor(idx):\n",
        "            idx = idx.tolist()\n",
        "\n",
        "        summary = self.data.loc[idx, self.labels]\n",
        "        bill = self.data.loc[idx, self.texts]\n",
        "\n",
        "        sample = {'summary': summary, 'bill': bill}\n",
        "\n",
        "        if self.transform:\n",
        "            sample = self.transform(sample)\n",
        "\n",
        "        return sample\n"
      ],
      "execution_count": null,
      "outputs": []
    },
    {
      "cell_type": "code",
      "metadata": {
        "id": "XSzLni9G0a8O"
      },
      "source": [
        "# train, test, valid sizes, respectively\n",
        "train, test, validate = split(fake_data, 1, 0, 0)"
      ],
      "execution_count": null,
      "outputs": []
    },
    {
      "cell_type": "code",
      "metadata": {
        "id": "Ud3Ax7_j1efO"
      },
      "source": [
        "def build_vocab(training_data, summary_col='summary', bill_col='bill', summaries=True, bills=True):\n",
        "    '''\n",
        "    Builds a Vocab object for a Dataset object.\n",
        "    If default BillsDataset object, summary and bill are dict keys.\n",
        "    '''\n",
        "    # Here I used a single counter for both bills and summaries\n",
        "    # Since we don't want to limit the vocab\n",
        "    # Which seems right but I have no idea\n",
        "    counter_words = Counter()\n",
        "\n",
        "    for index in range(len(training_data)):\n",
        "        example = training_data[index]\n",
        "        if summaries:\n",
        "          counter_words.update(example[summary_col])\n",
        "        if bills:\n",
        "          counter_words.update(example[bill_col])\n",
        "\n",
        "    return Vocab(counter_words)"
      ],
      "execution_count": null,
      "outputs": []
    },
    {
      "cell_type": "code",
      "metadata": {
        "id": "YUB7X4Ma07yc",
        "colab": {
          "base_uri": "https://localhost:8080/"
        },
        "outputId": "6fc1d497-d3eb-43bb-aa0a-b8b130d0aa3f"
      },
      "source": [
        "vocab = build_vocab(train, 'summary','bill')\n",
        "print(f'Vocab size is {len(vocab)}')"
      ],
      "execution_count": null,
      "outputs": [
        {
          "output_type": "stream",
          "text": [
            "Vocab size is 8\n"
          ],
          "name": "stdout"
        }
      ]
    },
    {
      "cell_type": "code",
      "metadata": {
        "id": "z5K-hi8G0uNM"
      },
      "source": [
        "def get_dataloaders(batch_size, vocab, max_summary_length, max_bill_length, **kwargs):\n",
        "    '''\n",
        "    kwargs for training_data:, test_data:, and validation_data:.\n",
        "    Returns dict of dataloaders based on arg name input\n",
        "    '''\n",
        "    dataloaders = {}\n",
        "    # Set params for the collate function\n",
        "    # uses the max length of any bill and summary across the entire data set\n",
        "    collate_fn = partial(\n",
        "        collate_bills_fn, vocab=vocab, max_summary_length=max_summary_length, max_bill_length=max_bill_length)\n",
        "\n",
        "    for dataset_name, data in kwargs.items():\n",
        "        dataloaders[dataset_name] = DataLoader(\n",
        "            data, batch_size=batch_size,\n",
        "            shuffle=True, collate_fn=collate_fn)\n",
        "\n",
        "    return dataloaders\n",
        "\n",
        "\n",
        "def collate_bills_fn(batch, vocab, max_summary_length=512, max_bill_length=2048):\n",
        "    '''\n",
        "    Collates the batches into the dataloader. Pads unequal lengths with zeros\n",
        "    based on the max lengths given.\n",
        "    '''\n",
        "    labels = []\n",
        "    texts = []\n",
        "    for idx, text_dict in enumerate(batch):\n",
        "        # Get the label and the text\n",
        "        label = text_dict['summary']\n",
        "        text = text_dict['bill'][::-1]\n",
        "        # Output for the sample\n",
        "        label_vectors = []\n",
        "        text_vectors = []\n",
        "        # Check lengths; see how much to pad\n",
        "        label_length = len(label)\n",
        "        text_length = len(text)\n",
        "        labels_to_pad = max_summary_length - label_length\n",
        "        text_to_pad = max_bill_length - text_length\n",
        "\n",
        "        if label_length < max_summary_length:\n",
        "            label.extend(['<pad>'] * labels_to_pad)\n",
        "            # label_vectors = F.pad(label_vectors, (0, 0, 0, labels_to_pad))\n",
        "        if text_length < max_bill_length:\n",
        "            text.extend(['<pad>'] * text_to_pad)\n",
        "            # text_vectors = F.pad(text_vectors, (0, 0, 0, text_to_pad))label_vectors = []\n",
        "\n",
        "        for word in label:\n",
        "            label_vectors.append(vocab.stoi[word])\n",
        "        for word in text:\n",
        "            text_vectors.append(vocab.stoi[word])\n",
        "\n",
        "\n",
        "        labels.append(torch.LongTensor(label_vectors))\n",
        "        texts.append(torch.LongTensor(text_vectors))\n",
        "    # Returns shape of (batch size, max_summary (or bill)_length) for each\n",
        "    return (torch.stack(labels), torch.stack(texts))"
      ],
      "execution_count": null,
      "outputs": []
    },
    {
      "cell_type": "code",
      "metadata": {
        "id": "6vd1Wx2a1f5I"
      },
      "source": [
        "# This results in (number of samples in each set / batch size) tuples (or iteration steps) of size (batch size, max length)\n",
        "# So if size of training is 15, and batch size is 5, enumerating through dataloader will have 3 steps of inputting label (batch size, summary_length) and text (batch size, bill length)\n",
        "dataloaders_dict = get_dataloaders(1, vocab, 5, 6, train_data=train,)"
      ],
      "execution_count": null,
      "outputs": []
    },
    {
      "cell_type": "code",
      "metadata": {
        "id": "T0nlEEiaLRlW",
        "colab": {
          "base_uri": "https://localhost:8080/"
        },
        "outputId": "3d9d12fa-1571-4a34-83ff-df61a902327c"
      },
      "source": [
        "l, f = next(iter(dataloaders_dict['train_data']))\n",
        "# print(l, [vocab.itos[x] for x in l.squeeze(0)])\n",
        "# print(f, [vocab.itos[x] for x in f.squeeze(0)])\n",
        "print(l)"
      ],
      "execution_count": null,
      "outputs": [
        {
          "output_type": "stream",
          "text": [
            "tensor([[3, 6, 4, 5, 2]])\n"
          ],
          "name": "stdout"
        }
      ]
    },
    {
      "cell_type": "code",
      "metadata": {
        "id": "47IKUh6O104N"
      },
      "source": [
        "def build_glove(vocab):\n",
        "  '''\n",
        "  Return the pretrained embeddings for the vocab words.\n",
        "  '''\n",
        "  # https://nlp.stanford.edu/projects/glove/\n",
        "  VECTORS_CACHE_DIR = './.vector_cache'\n",
        "  glove = GloVe(name='6B', cache=VECTORS_CACHE_DIR)\n",
        "  glove_vectors = glove.get_vecs_by_tokens(vocab.itos)\n",
        "  return glove_vectors"
      ],
      "execution_count": null,
      "outputs": []
    },
    {
      "cell_type": "code",
      "metadata": {
        "id": "bzwN2Z2-1utE"
      },
      "source": [
        "glove_vecs = build_glove(vocab)\n",
        "# glove_vecs will be size (vocab_size, 300)"
      ],
      "execution_count": null,
      "outputs": []
    },
    {
      "cell_type": "code",
      "metadata": {
        "id": "7MGYSLRF16h3"
      },
      "source": [
        "class Encoder(nn.Module):\n",
        "    def __init__(self,\n",
        "                 input_size,\n",
        "                 hidden_size,\n",
        "                 pretrained_embeddings,\n",
        "                 device,\n",
        "                 freeze_glove=False,\n",
        "                 ):\n",
        "        super(Encoder, self).__init__()\n",
        "        self.input_size = input_size\n",
        "        self.hidden_size = hidden_size\n",
        "        # may have to adjust the padding_idx?\n",
        "        self.embedding = nn.Embedding.from_pretrained(\n",
        "            pretrained_embeddings, padding_idx=1, freeze=freeze_glove)\n",
        "\n",
        "        self.rnn = nn.LSTM(self.input_size, self.hidden_size, num_layers=4)\n",
        "\n",
        "    def forward(self, text):\n",
        "      '''\n",
        "      Text size is batch size, bill length\n",
        "      '''\n",
        "      # Embedded size is sequence length, batch size, glove vecs size\n",
        "      embedded = self.embedding(text).view(-1, len(text), 300)\n",
        "      # outputs is size (sequence length, batch_size, hidden_size)\n",
        "      outputs, (hidden, cell) = self.rnn(embedded)\n",
        "      # each of these are size (1, batch_size, hidden_size)\n",
        "      return hidden, cell"
      ],
      "execution_count": null,
      "outputs": []
    },
    {
      "cell_type": "code",
      "metadata": {
        "id": "uXsKciUp2y_j"
      },
      "source": [
        "encoder = Encoder(300, 512, glove_vecs, DEVICE).to(DEVICE)"
      ],
      "execution_count": null,
      "outputs": []
    },
    {
      "cell_type": "code",
      "metadata": {
        "id": "i-tqTyGk2a6V"
      },
      "source": [
        "class Decoder(nn.Module):\n",
        "    def __init__(self, output_dim, hidden_dim, pretrained_embeddings, device, freeze_glove=False):\n",
        "        super().__init__()\n",
        "\n",
        "        # output dim should equal vocab size\n",
        "        self.output_dim = output_dim\n",
        "        self.hidden_dim = hidden_dim\n",
        "        self.rnn = nn.LSTM(300, hidden_dim, num_layers=4)\n",
        "        self.fc_out = nn.Linear(hidden_dim, output_dim).to(device)\n",
        "        # dim=1 applies LogSoftmax across rows\n",
        "        # Example:\n",
        "        # a = torch.Tensor([[1, 1, 1, 1], [5,60,5,25]])\n",
        "        # b = nn.LogSoftmax(dim=1)\n",
        "        # b(a)\n",
        "        self.softmax = nn.LogSoftmax(dim=1)\n",
        "        self.embedding = nn.Embedding.from_pretrained(\n",
        "            pretrained_embeddings, freeze=freeze_glove)\n",
        "\n",
        "    def forward(self, input_word, hidden, cell):\n",
        "        # print('ANSWER',input_word.size())\n",
        "        # Input word is initially\n",
        "        input_word = input_word.unsqueeze(0)\n",
        "        # print('input: ', input_word.size())\n",
        "        # print(vocab.itos[input_word])\n",
        "        # print('hidden: ', hidden.size())\n",
        "        # print('cell: ', cell.size())\n",
        "        embedded = self.embedding(input_word)  # .view(len(input), 300, -1)\n",
        "        # print('embedded_decode: ', embedded.size())\n",
        "        output, (hidden_new, cell_new) = self.rnn(embedded, (hidden, cell))\n",
        "        # print('new output: ',output.size())\n",
        "        # print('new hidden: ', hidden.size())\n",
        "        # print('new cell: ', cell.size())\n",
        "        prediction = self.softmax(self.fc_out(output.squeeze(0)))\n",
        "        # print('new prediction', prediction.size())\n",
        "        return prediction, hidden_new, cell_new"
      ],
      "execution_count": null,
      "outputs": []
    },
    {
      "cell_type": "code",
      "metadata": {
        "id": "R-0YecV124iN"
      },
      "source": [
        "decoder = Decoder(len(vocab), 512, glove_vecs, DEVICE)"
      ],
      "execution_count": null,
      "outputs": []
    },
    {
      "cell_type": "code",
      "metadata": {
        "id": "y185AuTq2fAl"
      },
      "source": [
        "class Seq2Seq(nn.Module):\n",
        "    def __init__(self, encoder, decoder, device):\n",
        "        super().__init__()\n",
        "\n",
        "        self.encoder = encoder\n",
        "        self.decoder = decoder\n",
        "        self.device = device\n",
        "\n",
        "    def forward(self, label, text):\n",
        "        batch_size = label.shape[0]\n",
        "        # print('batch size: ', batch_size)\n",
        "\n",
        "        label_length = label.shape[1]\n",
        "        # print('label_length: ', label_length)\n",
        "\n",
        "        vocab_size = self.decoder.output_dim\n",
        "\n",
        "        decode_outputs = torch.zeros(label_length, batch_size, vocab_size).to(self.device)\n",
        "        # print('outputs size: ', outputs.size())\n",
        "\n",
        "        hidden_enc, cell_enc = self.encoder(text)\n",
        "        input_word = label[:, 0]\n",
        "        # print(label.size())\n",
        "\n",
        "        for t in range(1, label_length):\n",
        "            # print('input word: ', vocab.itos[input_word[0]])\n",
        "\n",
        "            output, hidden, cell = self.decoder(input_word, hidden_enc, cell_enc)\n",
        "            # print('output size: ', output.size())\n",
        "            # print('outputs: ', outputs.size())\n",
        "            decode_outputs[t] = output\n",
        "            # pick next word\n",
        "            # top_choice = output.argmax(1)\n",
        "            top_choice = torch.max(output, dim=1)[1]\n",
        "            # print('predicted word:', ', '.join([vocab.itos[x] for x in top_choice]))\n",
        "            # Check loss here\n",
        "            # print('top choice', top_choice)\n",
        "            # somehow?\n",
        "            #input_word = top_choice\n",
        "            input_word = label[:, t]\n",
        "            hidden_enc = hidden\n",
        "            cell_enc =  cell\n",
        "        # print('outputs', outputs.size)\n",
        "        # print(outputs)\n",
        "        return decode_outputs"
      ],
      "execution_count": null,
      "outputs": []
    },
    {
      "cell_type": "code",
      "metadata": {
        "id": "1jRPx8aS28cP"
      },
      "source": [
        "seq = Seq2Seq(encoder, decoder, DEVICE).to(DEVICE)"
      ],
      "execution_count": null,
      "outputs": []
    },
    {
      "cell_type": "code",
      "metadata": {
        "id": "aLvAmWLX2iSt"
      },
      "source": [
        "adams = optim.Adam(encoder.parameters(), lr=.1)\n",
        "PAD_TOKEN = vocab.stoi['<pad>']\n",
        "loss = nn.CrossEntropyLoss(ignore_index=PAD_TOKEN).to(DEVICE)  #ignore_index=0"
      ],
      "execution_count": null,
      "outputs": []
    },
    {
      "cell_type": "code",
      "metadata": {
        "id": "Ekmk8Pzp2hfq"
      },
      "source": [
        "def train_an_epoch(model, dataloader, optimizer, loss_function):\n",
        "    # loss_function = nn.CrossEntropyLoss().to(device)\n",
        "    model.train()\n",
        "    log_interval = 50\n",
        "    \n",
        "    for idx, (label, text) in enumerate(dataloader):\n",
        "        model.zero_grad()\n",
        "        label = label.to(DEVICE)\n",
        "        text = text.to(DEVICE)\n",
        "        output = model(label, text)\n",
        "        output_dim = output.shape[-1]\n",
        "        # print('initial', output.size())\n",
        "        # print(label.size())\n",
        "        output = output.view(-1, output_dim)\n",
        "        target = label.view(-1)\n",
        "        # print('output', output.size())\n",
        "        # print('target', target.size())\n",
        "        # print('TARGET: ', ' '.join([vocab.itos[x] for x in target]))\n",
        "        # print('PREDICTED: ', ' '.join([vocab.itos[x] for x in torch.max(output, dim=1)[1]]))\n",
        "        loss = loss_function(output, target)\n",
        "        loss.backward()\n",
        "        # print('step', idx)\n",
        "      \n",
        "        torch.nn.utils.clip_grad_norm_(model.parameters(), 1)\n",
        "        optimizer.step()\n",
        "        if idx % log_interval == 0 and idx > 0:\n",
        "            print(f'Iteration: {idx}; Loss: {loss:.3f}.')\n",
        "        "
      ],
      "execution_count": null,
      "outputs": []
    },
    {
      "cell_type": "markdown",
      "metadata": {
        "id": "9rRUd19nBUlG"
      },
      "source": [
        "## Training"
      ]
    },
    {
      "cell_type": "code",
      "metadata": {
        "id": "KDg2DK3lCb4n"
      },
      "source": [
        "def get_score(model, dataloader, loss_function):\n",
        "  model.eval()\n",
        "  total_loss = 0\n",
        "  with torch.no_grad():\n",
        "    for i, (label, text) in enumerate(dataloader):\n",
        "      label = label.to(DEVICE)\n",
        "      text = text.to(DEVICE)\n",
        "      output = model(label, text)\n",
        "      output_dim = output.shape[-1]\n",
        "      output = output.view(-1, output_dim)\n",
        "      target = label.view(-1)\n",
        "\n",
        "      loss = loss_function(output, target)\n",
        "      total_loss += loss.item()\n",
        "\n",
        "    return total_loss / len(dataloader)"
      ],
      "execution_count": null,
      "outputs": []
    },
    {
      "cell_type": "code",
      "metadata": {
        "id": "AXhmCqJjcriH"
      },
      "source": [
        "# import gc\n",
        "# gc.collect()\n",
        "# torch.cuda.empty_cache()"
      ],
      "execution_count": null,
      "outputs": []
    },
    {
      "cell_type": "code",
      "metadata": {
        "id": "4mOMMpL94c2U",
        "colab": {
          "base_uri": "https://localhost:8080/",
          "height": 1000
        },
        "outputId": "cd9af947-11cf-4229-d072-d6df2920fe59"
      },
      "source": [
        "import matplotlib.pyplot as plt\n",
        "%matplotlib inline\n",
        "\n",
        "EPOCHS = 30\n",
        "scores = []\n",
        "best_lost = float('inf')\n",
        "for epoch in range(1, EPOCHS + 1):\n",
        "  train_an_epoch(seq, dataloaders_dict['train_data'], adams, loss)\n",
        "  score = get_score(seq, dataloaders_dict['train_data'], loss)\n",
        "  # if score < best_lost:\n",
        "  #   best_lost = score\n",
        "  #   torch.save(seq.state_dict(), 's2s-model.pt')\n",
        "  scores.append(score)\n",
        "  if epoch % 100 == 0:\n",
        "    print(f'epoch {epoch}, score: {score:.3f}')\n",
        "\n",
        "plt.plot(range(1, EPOCHS+1), scores)"
      ],
      "execution_count": null,
      "outputs": [
        {
          "output_type": "stream",
          "text": [
            "something changed\n",
            "something changed\n",
            "something changed\n",
            "something changed\n",
            "something changed\n",
            "something changed\n",
            "something changed\n",
            "something changed\n",
            "something changed\n",
            "something changed\n",
            "something changed\n",
            "something changed\n",
            "something changed\n",
            "something changed\n",
            "something changed\n",
            "something changed\n",
            "something changed\n",
            "something changed\n",
            "something changed\n",
            "something changed\n",
            "something changed\n",
            "something changed\n",
            "something changed\n",
            "something changed\n",
            "something changed\n",
            "something changed\n",
            "something changed\n",
            "something changed\n",
            "something changed\n",
            "something changed\n",
            "something changed\n",
            "something changed\n",
            "something changed\n",
            "something changed\n",
            "something changed\n",
            "something changed\n",
            "something changed\n",
            "something changed\n",
            "something changed\n",
            "something changed\n",
            "something changed\n",
            "something changed\n",
            "something changed\n",
            "something changed\n",
            "something changed\n",
            "something changed\n",
            "something changed\n",
            "something changed\n",
            "something changed\n",
            "something changed\n",
            "something changed\n",
            "something changed\n",
            "something changed\n",
            "something changed\n",
            "something changed\n",
            "something changed\n",
            "something changed\n",
            "something changed\n",
            "something changed\n",
            "something changed\n",
            "something changed\n",
            "something changed\n",
            "something changed\n",
            "something changed\n",
            "something changed\n",
            "something changed\n",
            "something changed\n",
            "something changed\n",
            "something changed\n",
            "something changed\n",
            "something changed\n",
            "something changed\n",
            "something changed\n",
            "something changed\n",
            "something changed\n",
            "something changed\n",
            "something changed\n",
            "something changed\n",
            "something changed\n",
            "something changed\n",
            "something changed\n",
            "something changed\n",
            "something changed\n",
            "something changed\n",
            "something changed\n",
            "something changed\n",
            "something changed\n",
            "something changed\n",
            "something changed\n",
            "something changed\n",
            "something changed\n",
            "something changed\n",
            "something changed\n",
            "something changed\n",
            "something changed\n",
            "something changed\n",
            "something changed\n",
            "something changed\n",
            "something changed\n",
            "something changed\n",
            "something changed\n",
            "something changed\n",
            "something changed\n",
            "something changed\n",
            "something changed\n",
            "something changed\n",
            "something changed\n",
            "something changed\n",
            "something changed\n",
            "something changed\n",
            "something changed\n",
            "something changed\n",
            "something changed\n",
            "something changed\n",
            "something changed\n",
            "something changed\n",
            "something changed\n",
            "something changed\n",
            "something changed\n",
            "something changed\n",
            "something changed\n",
            "something changed\n",
            "something changed\n",
            "something changed\n",
            "something changed\n",
            "something changed\n",
            "something changed\n",
            "something changed\n",
            "something changed\n",
            "something changed\n",
            "something changed\n",
            "something changed\n",
            "something changed\n",
            "something changed\n",
            "something changed\n",
            "something changed\n",
            "something changed\n",
            "something changed\n",
            "something changed\n",
            "something changed\n",
            "something changed\n",
            "something changed\n",
            "something changed\n",
            "something changed\n",
            "something changed\n",
            "something changed\n",
            "something changed\n",
            "something changed\n",
            "something changed\n",
            "something changed\n",
            "something changed\n",
            "something changed\n",
            "something changed\n",
            "something changed\n",
            "something changed\n",
            "something changed\n",
            "something changed\n",
            "something changed\n",
            "something changed\n",
            "something changed\n",
            "something changed\n",
            "something changed\n",
            "something changed\n",
            "something changed\n",
            "something changed\n",
            "something changed\n",
            "something changed\n",
            "something changed\n",
            "something changed\n",
            "something changed\n",
            "something changed\n",
            "something changed\n",
            "something changed\n",
            "something changed\n",
            "something changed\n",
            "something changed\n",
            "something changed\n",
            "something changed\n",
            "something changed\n",
            "something changed\n",
            "something changed\n",
            "something changed\n",
            "something changed\n",
            "something changed\n",
            "something changed\n",
            "something changed\n",
            "something changed\n",
            "something changed\n",
            "something changed\n",
            "something changed\n",
            "something changed\n",
            "something changed\n",
            "something changed\n",
            "something changed\n",
            "something changed\n",
            "something changed\n",
            "something changed\n",
            "something changed\n",
            "something changed\n",
            "something changed\n",
            "something changed\n",
            "something changed\n",
            "something changed\n",
            "something changed\n",
            "something changed\n",
            "something changed\n",
            "something changed\n",
            "something changed\n",
            "something changed\n",
            "something changed\n",
            "something changed\n",
            "something changed\n",
            "something changed\n",
            "something changed\n",
            "something changed\n",
            "something changed\n",
            "something changed\n",
            "something changed\n",
            "something changed\n",
            "something changed\n",
            "something changed\n",
            "something changed\n",
            "something changed\n",
            "something changed\n",
            "something changed\n",
            "something changed\n",
            "something changed\n",
            "something changed\n",
            "something changed\n",
            "something changed\n",
            "something changed\n",
            "something changed\n",
            "something changed\n",
            "something changed\n",
            "something changed\n",
            "something changed\n",
            "something changed\n",
            "something changed\n",
            "something changed\n",
            "something changed\n"
          ],
          "name": "stdout"
        },
        {
          "output_type": "execute_result",
          "data": {
            "text/plain": [
              "[<matplotlib.lines.Line2D at 0x7f2ad431d2d0>]"
            ]
          },
          "metadata": {
            "tags": []
          },
          "execution_count": 464
        },
        {
          "output_type": "display_data",
          "data": {
            "image/png": "[encoded data removed]",
            "text/plain": [
              "<Figure size 432x288 with 1 Axes>"
            ]
          },
          "metadata": {
            "tags": [],
            "needs_background": "light"
          }
        }
      ]
    },
    {
      "cell_type": "code",
      "metadata": {
        "id": "zdKElwAJJqdW"
      },
      "source": [
        "def get_output(model, label, text):\n",
        "  model.eval()\n",
        "  with torch.no_grad():\n",
        "    output = model(label, text)\n",
        "    output_dim = output.shape[-1]\n",
        "    output = output.view(-1, output_dim)\n",
        "    target = label.view(-1)\n",
        "\n",
        "    return target, output\n",
        "\n",
        "def make_prediction(model, vocab, label, text):\n",
        "  \"\"\"\n",
        "  label and text need to be submitted as dims [1, length]\n",
        "  May need to use unsqueeze. EX:\n",
        "  check = get_dataloaders(20, vocab, 63, 387,  check = test)\n",
        "  label, text = next(iter(check['check']))\n",
        "  l, p = make_prediction(seq, label[0].unsqueeze(0), text[0].unsqueeze(0))\n",
        "  \"\"\"\n",
        "  l, p = get_output(model, label, text)\n",
        "  p = p.argmax(1)\n",
        "  ls = ''\n",
        "  for idx, w in enumerate(l):\n",
        "    ls = ls + ' ' + str(vocab.itos[w])\n",
        "    if (str(vocab.itos[w]) == '<eos>') & (idx != 0):\n",
        "      break\n",
        "  ps = ''\n",
        "  for w in p:\n",
        "    word = str(vocab.itos[w])\n",
        "    # if (word != '<unk>') and (word != '<pad>'):\n",
        "    ps = ps + ' ' + word\n",
        "    if len(ps.split(' ')) == len(ls.split(' ')):\n",
        "      break\n",
        "  return ls, ps"
      ],
      "execution_count": null,
      "outputs": []
    },
    {
      "cell_type": "code",
      "metadata": {
        "id": "nnILA8dIOs1Y"
      },
      "source": [
        "label, text = next(iter(dataloaders_dict['train_data']))\n",
        "label = label.to(DEVICE)\n",
        "text = text.to(DEVICE)"
      ],
      "execution_count": null,
      "outputs": []
    },
    {
      "cell_type": "code",
      "metadata": {
        "colab": {
          "base_uri": "https://localhost:8080/"
        },
        "id": "BalnDn8EMGKK",
        "outputId": "2aeafb5c-61c9-4c19-a3ed-4914bcf8ae22"
      },
      "source": [
        "l, p = make_prediction(seq, vocab, label[0].unsqueeze(0), text[0].unsqueeze(0))\n",
        "print('TARGET: ', l)\n",
        "print('----')\n",
        "print('PREDICTION: ', p)"
      ],
      "execution_count": null,
      "outputs": [
        {
          "output_type": "stream",
          "text": [
            "something changed\n",
            "something changed\n",
            "something changed\n",
            "something changed\n",
            "TARGET:   <sos> make drugs legal <eos>\n",
            "----\n",
            "PREDICTION:   <unk> make drugs drugs drugs\n"
          ],
          "name": "stdout"
        }
      ]
    },
    {
      "cell_type": "code",
      "metadata": {
        "id": "Xwiq2-7u31il"
      },
      "source": [],
      "execution_count": null,
      "outputs": []
    }
  ]
}